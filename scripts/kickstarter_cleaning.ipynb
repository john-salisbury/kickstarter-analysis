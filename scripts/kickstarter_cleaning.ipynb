{
 "cells": [
  {
   "cell_type": "markdown",
   "id": "9e4e132e-0c4c-45b6-8ef6-7e1f1e2ee39a",
   "metadata": {},
   "source": [
    "# Data Cleaning - Predicting Kickstarter Campaign Success\n",
    "\n",
    "`Author: John Salisbury / Last Updated: Apr 10, 2023`\n",
    "***"
   ]
  },
  {
   "cell_type": "markdown",
   "id": "5cd3616d-5eb1-455c-a940-9e5c5dfd5aa7",
   "metadata": {},
   "source": [
    "<a href=\"https://john-salisbury.github.io/kickstarter-analysis\" target=\"_self\" style=\"font-size: 20px; font-weight: bold; text-decoration:underline\">View Data Analysis</a>\n",
    "   \n",
    "***"
   ]
  },
  {
   "cell_type": "markdown",
   "id": "4025002a-db05-421a-9acf-4c5d4d8a7d4e",
   "metadata": {},
   "source": [
    "## Summary\n",
    "\n",
    "In this project, I **clean and analyze data on over 250k Kickstarter crowdfunding campaigns** that took place in the United States between 2009-2018, **using logistic regression** to identify factors that predict campaign success. \n",
    "\n",
    "In this particular notebook, I **explore, clean, and prepare the data** for use in a logistic regression model. To view the model and final results from the analysis, visit [this link](https://john-salisbury.github.io/kickstarter-analysis) (or click on \"View Data Analysis\" above).\n",
    "\n",
    "--\n",
    "\n",
    "*Table of Contents:*\n",
    "<br>\n",
    "<a href=\"#import-modules-data\" class=\"toc\">Import Modules and Data</a>\n",
    "<br>\n",
    "<a href=\"#data-exploration\" class=\"toc\">Data Exploration and Cleaning</a>\n",
    "<br>\n",
    "<a href=\"#examine-data\" class=\"toc nest-one\">Examine Data Structure</a>\n",
    "<br>\n",
    "<a href=\"#subset-data\" class=\"toc nest-one\">Subset Data</a>\n",
    "<br>\n",
    "<a href=\"#missing-data\" class=\"toc nest-one\">Search for Missing/Erroneous Data</a>\n",
    "<br>\n",
    "<a href=\"#add-columns\" class=\"toc nest-one\">Create New Columns</a>\n",
    "<br>\n",
    "<a href=\"#drop-columns\" class=\"toc nest-one\">Drop Unnecessary Columns</a>\n",
    "<br>\n",
    "<a href=\"#save-csv\" class=\"toc\">Save Cleaned CSV for Analysis</a>\n",
    "\n",
    "--\n",
    "\n",
    "*Find the data for this project on Kaggle:*\n",
    "<br>\n",
    "[Kickstarter Projects](https://www.kaggle.com/datasets/ulrikthygepedersen/kickstarter-projects)\n",
    "<br><br>\n",
    "***"
   ]
  },
  {
   "cell_type": "markdown",
   "id": "520acf9e-9e85-4841-962a-ea8c1f6a2074",
   "metadata": {},
   "source": [
    "<div id=\"import-modules-data\"></div>\n",
    "\n",
    "## Import Modules and Data"
   ]
  },
  {
   "cell_type": "markdown",
   "id": "e8105026-1df8-4514-9b3b-77cbfd65ad0a",
   "metadata": {},
   "source": [
    "To facilitate the exploration and cleaning of our data, we **import a few common Python modules** (e.g., `pandas`, `matplotlib`, etc.). We also use Pandas to import our data as a dataframe."
   ]
  },
  {
   "cell_type": "code",
   "execution_count": 1,
   "id": "07d01ddd-8681-4700-9851-3a262b5e0c08",
   "metadata": {},
   "outputs": [],
   "source": [
    "#IMPORT MODULES ------\n",
    "\n",
    "#Common modules\n",
    "import datetime as dt   #Used to handle date data\n",
    "import matplotlib.pyplot as plt   #Plotting support\n",
    "import pandas as pd   #DataFrame support\n",
    "\n",
    "#Suppress warnings in Jupyter \n",
    "import warnings\n",
    "warnings.filterwarnings('ignore')\n",
    "\n",
    "#IPython - HTML notebook formatting\n",
    "from IPython.core.display import HTML"
   ]
  },
  {
   "cell_type": "markdown",
   "id": "bd7da339-36ab-4a25-9de8-dc31863cde96",
   "metadata": {},
   "source": [
    "We'll also add some CSS to improve the look and feel of our notebook:"
   ]
  },
  {
   "cell_type": "code",
   "execution_count": 2,
   "id": "e97cd9cc-027a-45b5-ae21-b65791b07ea0",
   "metadata": {},
   "outputs": [
    {
     "data": {
      "text/html": [
       "\n",
       "<style>\n",
       ".jp-needs-light-background {\n",
       "    display: block;\n",
       "    margin: auto;\n",
       "}\n",
       "\n",
       ".jp-OutputArea-output.jp-RenderedHTMLCommon table {\n",
       "    margin: 2em auto;\n",
       "    background: #eae9e9;\n",
       "    border: 1px solid #000;\n",
       "    font-size: 14px;\n",
       "}\n",
       "\n",
       ".toc {\n",
       "    font-size: 16px;\n",
       "}\n",
       "\n",
       ".nest-one {\n",
       "    margin-left: 1em;\n",
       "    font-style: italic;\n",
       "    font-size: 14px;\n",
       "}\n",
       "\n",
       ".nest-two {\n",
       "    margin-left: 3em;\n",
       "    font-style: italic;\n",
       "    font-size: 12px;\n",
       "}\n",
       "\n",
       ".faint {\n",
       "    opacity: 0.2;\n",
       "}\n",
       "</style>\n"
      ],
      "text/plain": [
       "<IPython.core.display.HTML object>"
      ]
     },
     "execution_count": 2,
     "metadata": {},
     "output_type": "execute_result"
    }
   ],
   "source": [
    "HTML(\"\"\"\n",
    "<style>\n",
    ".jp-needs-light-background {\n",
    "    display: block;\n",
    "    margin: auto;\n",
    "}\n",
    "\n",
    ".jp-OutputArea-output.jp-RenderedHTMLCommon table {\n",
    "    margin: 2em auto;\n",
    "    background: #eae9e9;\n",
    "    border: 1px solid #000;\n",
    "    font-size: 14px;\n",
    "}\n",
    "\n",
    ".toc {\n",
    "    font-size: 16px;\n",
    "}\n",
    "\n",
    ".nest-one {\n",
    "    margin-left: 1em;\n",
    "    font-style: italic;\n",
    "    font-size: 14px;\n",
    "}\n",
    "\n",
    ".nest-two {\n",
    "    margin-left: 3em;\n",
    "    font-style: italic;\n",
    "    font-size: 12px;\n",
    "}\n",
    "\n",
    ".faint {\n",
    "    opacity: 0.2;\n",
    "}\n",
    "</style>\n",
    "\"\"\")"
   ]
  },
  {
   "cell_type": "markdown",
   "id": "4aeb636f-db53-4f90-886e-7fac9a186ad0",
   "metadata": {},
   "source": [
    "And finally, we'll import our raw data as a Pandas dataframe:"
   ]
  },
  {
   "cell_type": "code",
   "execution_count": 3,
   "id": "9d56a5ca-ab48-4a9e-a6ca-10e3eea75d7d",
   "metadata": {},
   "outputs": [],
   "source": [
    "#IMPORT DATA ------\n",
    "\n",
    "#Import CSV as DataFrame\n",
    "data = pd.read_csv(\"../data/kickstarter_projects.csv\")"
   ]
  },
  {
   "cell_type": "markdown",
   "id": "47097903-2780-422a-9b2a-0dfd08ce6130",
   "metadata": {},
   "source": [
    "<div id=\"data-exploration\"></div>\n",
    "\n",
    "***\n",
    "## Data Exploration and Cleaning"
   ]
  },
  {
   "cell_type": "markdown",
   "id": "714136e7-3b90-421c-a5f1-6c89cc7a2c98",
   "metadata": {},
   "source": [
    "<div id=\"examine-data\"></div>\n",
    "\n",
    "### Examine Data Structure"
   ]
  },
  {
   "cell_type": "markdown",
   "id": "2b833c18-684c-4d3b-a232-664cb34057ef",
   "metadata": {},
   "source": [
    "Now that we've imported our data, we can **start to explore it**. First, we'll use the Pandas `info()` method to examine the following information:\n",
    "- Column names\n",
    "- Non-null values in each column\n",
    "- Data type of each column"
   ]
  },
  {
   "cell_type": "code",
   "execution_count": 4,
   "id": "94926fd5-33c1-420d-8531-db9c33cfd3b8",
   "metadata": {},
   "outputs": [
    {
     "name": "stdout",
     "output_type": "stream",
     "text": [
      "<class 'pandas.core.frame.DataFrame'>\n",
      "RangeIndex: 374853 entries, 0 to 374852\n",
      "Data columns (total 11 columns):\n",
      " #   Column       Non-Null Count   Dtype \n",
      "---  ------       --------------   ----- \n",
      " 0   ID           374853 non-null  int64 \n",
      " 1   Name         374853 non-null  object\n",
      " 2   Category     374853 non-null  object\n",
      " 3   Subcategory  374853 non-null  object\n",
      " 4   Country      374853 non-null  object\n",
      " 5   Launched     374853 non-null  object\n",
      " 6   Deadline     374853 non-null  object\n",
      " 7   Goal         374853 non-null  int64 \n",
      " 8   Pledged      374853 non-null  int64 \n",
      " 9   Backers      374853 non-null  int64 \n",
      " 10  State        374853 non-null  object\n",
      "dtypes: int64(4), object(7)\n",
      "memory usage: 31.5+ MB\n"
     ]
    }
   ],
   "source": [
    "data.info()"
   ]
  },
  {
   "cell_type": "markdown",
   "id": "0aaadc94-f271-43c8-adfb-e0bad14b16d5",
   "metadata": {},
   "source": [
    "<br>\n",
    "\n",
    "From the output above, we can see that we have 11 distinct columns. Using this output, as well as metadata from the data's source on Kaggle, we can describe our columns below:\n",
    "- `ID` (integer) - a unique numeric ID assigned to each project\n",
    "- `Name` (string) - Kickstarter campaign name\n",
    "- `Category` (string) - a primary category that the campaign fits into\n",
    "- `Subcategory` (string) - a secondary category that the campaign fits into\n",
    "- `Country` (string) - the country in which the campaign was launched\n",
    "- `Launched` (string) - the launch date of the campaign\n",
    "- `Deadline` (string) - the date at which the campaign expires (and fundraising stops)\n",
    "- `Goal` (integer) - the campaign's fundraising goal in USD\n",
    "- `Pledged` (integer) - the amount of money (in USD) that the campaign raised during the fundraising period\n",
    "- `Backers` (integer) - the number of individuals who contributed money to the campaign\n",
    "- `State` (string) - the final outcome of the campaign (e.g., \"Successful\", \"Failed\", etc.)\n",
    "\n",
    "We also see that all of our columns have the same number of non-null values, indicating that there is no missing data in our dataset. However, we will still need to explore the values within each column to ensure that there are no erroneous and/or duplicate values that could affect our future analysis."
   ]
  },
  {
   "cell_type": "markdown",
   "id": "c899d297-9557-41fa-8a37-094b62f2eb0d",
   "metadata": {},
   "source": [
    "<hr class=\"faint\">"
   ]
  },
  {
   "cell_type": "markdown",
   "id": "8e3a83fb-2fe5-48b4-b136-c6036bbfac14",
   "metadata": {},
   "source": [
    "<div id=\"subset-data\"></div>\n",
    "\n",
    "### Subset Data\n",
    "#### Filter to US Data\n",
    "Before we start to explore our data further, we need to **subset it so that it only contains records for Kickstarter campaigns in the United States** (as we are only interested in predicting factors that affect campaign success within the US).\n",
    "\n",
    "Using the Pandas `value_counts()` method below, we can see that 292,618 (or roughly 78%) of our observations are for campaigns in the US:"
   ]
  },
  {
   "cell_type": "code",
   "execution_count": 5,
   "id": "57600457-eedd-4928-ac9c-4eee98a8fe31",
   "metadata": {},
   "outputs": [
    {
     "name": "stdout",
     "output_type": "stream",
     "text": [
      "United States     292618\n",
      "United Kingdom     33671\n",
      "Canada             14756\n",
      "Australia           7839\n",
      "Germany             4171\n",
      "France              2939\n",
      "Italy               2878\n",
      "Netherlands         2868\n",
      "Spain               2276\n",
      "Sweden              1757\n",
      "Mexico              1752\n",
      "New Zealand         1447\n",
      "Denmark             1113\n",
      "Ireland              811\n",
      "Switzerland          760\n",
      "Norway               708\n",
      "Hong Kong            618\n",
      "Belgium              617\n",
      "Austria              597\n",
      "Singapore            555\n",
      "Luxembourg            62\n",
      "Japan                 40\n",
      "Name: Country, dtype: int64\n"
     ]
    }
   ],
   "source": [
    "print(data[\"Country\"].value_counts())"
   ]
  },
  {
   "cell_type": "markdown",
   "id": "c9355b62-554c-4ee4-8319-eedfd10b4f4b",
   "metadata": {},
   "source": [
    "We can go ahead and filter our dataframe so that it only includes rows in which the `Country` column contains \"United States\":"
   ]
  },
  {
   "cell_type": "code",
   "execution_count": 6,
   "id": "90bedcf6-c2a1-4642-8148-5567de23e54a",
   "metadata": {},
   "outputs": [],
   "source": [
    "#Subset to US data\n",
    "us = data[data[\"Country\"] == \"United States\"]"
   ]
  },
  {
   "cell_type": "markdown",
   "id": "bafd2ac1-f44b-46f0-9f0e-431491677b25",
   "metadata": {},
   "source": [
    "<hr class=\"faint\">"
   ]
  },
  {
   "cell_type": "markdown",
   "id": "ce844a25-96fa-417a-9c78-f191ce9282c7",
   "metadata": {},
   "source": [
    "#### Filter to Binary Outcome\n",
    "If we look at the values for the `State` variable (which, as a reminder, gives us the final outcome of each campaign) within our subset data, we can see that there are five distinct values:"
   ]
  },
  {
   "cell_type": "code",
   "execution_count": 7,
   "id": "5d125d00-2637-4419-8c2d-262f9f26fd71",
   "metadata": {
    "tags": []
   },
   "outputs": [
    {
     "data": {
      "text/plain": [
       "Failed        152059\n",
       "Successful    109299\n",
       "Canceled       28305\n",
       "Live            1740\n",
       "Suspended       1215\n",
       "Name: State, dtype: int64"
      ]
     },
     "execution_count": 7,
     "metadata": {},
     "output_type": "execute_result"
    }
   ],
   "source": [
    "#What values are present in the \"State\" column?\n",
    "us[\"State\"].value_counts()"
   ]
  },
  {
   "cell_type": "markdown",
   "id": "40d6dad3-5fbe-4e54-ae81-0a728b5533b1",
   "metadata": {},
   "source": [
    "<br>\n",
    "\n",
    "Using Kickstarter's [help articles](https://help.kickstarter.com/hc/en-us/articles/115005136354-What-happens-when-a-project-is-suspended-), we can determine that each value represents the following:\n",
    "- `Failed` - campaign failed to meet its fundraising goal\n",
    "- `Successful` - campaign met its fundraising goal\n",
    "- `Canceled` - campaign was canceled by the campaign's primary representative\n",
    "- `Live` - campaign is still active (as of March 2023)\n",
    "- `Suspended` - campaign was permanently suspended by Kickstarter for violation of its trust policies"
   ]
  },
  {
   "cell_type": "markdown",
   "id": "aa1fa2aa-23c2-41db-87e8-db8e716a86e0",
   "metadata": {},
   "source": [
    "In our future analysis, we are interested in identifying how well various factors in our dataset predict campaign success. We are *not* interested in campaigns that were canceled or suspended, as these outcomes are likely due to other extraneous factors that are not possible to account for in our analysis. Additionally, we are not interested in campaigns that are currently active, as these campaigns don't yet have an outcome.\n",
    "\n",
    "Thus, we will **further subset our data to remove all observations in which the `State` column contains \"Canceled\", \"Suspended\", or \"Live\"**, leaving us with roughly 89% of our original US data. Our subset data has a binary outcome - either \"Failed\" or \"Successful\". "
   ]
  },
  {
   "cell_type": "code",
   "execution_count": 8,
   "id": "cb461186-417f-4c05-a7c9-cdbe2fd2f62c",
   "metadata": {},
   "outputs": [
    {
     "data": {
      "text/plain": [
       "Failed        152059\n",
       "Successful    109299\n",
       "Name: State, dtype: int64"
      ]
     },
     "execution_count": 8,
     "metadata": {},
     "output_type": "execute_result"
    }
   ],
   "source": [
    "us_filt = us[us[\"State\"].isin([\"Failed\", \"Successful\"])]\n",
    "us_filt[\"State\"].value_counts()"
   ]
  },
  {
   "cell_type": "markdown",
   "id": "be590d7f-1fae-43d7-9c94-b409b7b8e5ed",
   "metadata": {},
   "source": [
    "<br>\n",
    "\n",
    "To facilitate future modeling and analysis, we will go ahead and **convert our values in the `State` column** to `0` (for \"Failed\") or `1` (for \"Successful\"). "
   ]
  },
  {
   "cell_type": "code",
   "execution_count": 9,
   "id": "287ae2e7-0fb6-424d-b7bd-4c2a107ab488",
   "metadata": {},
   "outputs": [],
   "source": [
    "#Define a mapping dict\n",
    "md = {\n",
    "    'Failed':0,\n",
    "    'Successful':1\n",
    "}\n",
    "\n",
    "#Replace values using map() method\n",
    "us_filt[\"State\"] = us_filt[\"State\"].map(md)"
   ]
  },
  {
   "cell_type": "markdown",
   "id": "160f8773-16ff-4ddc-b117-bf5f56b56b5f",
   "metadata": {},
   "source": [
    "<hr class=\"faint\">"
   ]
  },
  {
   "cell_type": "markdown",
   "id": "a55fea65-3d99-49ad-aa83-c3ee012858b6",
   "metadata": {},
   "source": [
    "<div id=\"missing-data\"></div>\n",
    "\n",
    "### Search for Missing/Erroneous Data\n",
    "#### Remove Duplicate Values"
   ]
  },
  {
   "cell_type": "markdown",
   "id": "f467e183-5bdb-467f-87e6-b35f3283f4d8",
   "metadata": {},
   "source": [
    "Now that we've verified that there are no `nan` values within our dataset and have fully subset it to the specific data we're interested in, we can start **searching for duplicate and/or erroneous observations**.\n",
    "\n",
    "First, let's **see if there are any duplicate values** using Pandas `drop_duplicates()` method:"
   ]
  },
  {
   "cell_type": "code",
   "execution_count": 10,
   "id": "42b3c360-174b-42fe-8391-008b245e60d7",
   "metadata": {},
   "outputs": [
    {
     "data": {
      "text/plain": [
       "261358"
      ]
     },
     "execution_count": 10,
     "metadata": {},
     "output_type": "execute_result"
    }
   ],
   "source": [
    "us_filt = us_filt.drop_duplicates()\n",
    "us_filt.shape[0]"
   ]
  },
  {
   "cell_type": "markdown",
   "id": "50fbff17-ed2a-4ff6-a3e5-dd806dede13c",
   "metadata": {},
   "source": [
    "We see that this operation did not result in any dropped rows, which indicates that there were no duplicates in our US subset. "
   ]
  },
  {
   "cell_type": "markdown",
   "id": "a69fe247-bf8a-4a49-be87-22aff1b6629d",
   "metadata": {},
   "source": [
    "<hr class=\"faint\">"
   ]
  },
  {
   "cell_type": "markdown",
   "id": "0b89937e-8089-44bb-892d-27fd3960db3b",
   "metadata": {},
   "source": [
    "#### Search for Erroneous Data\n",
    "Next, let's investigate values within each of our columns to **check for erroneous data** that could affect our future analysis. We'll go through each column below."
   ]
  },
  {
   "cell_type": "markdown",
   "id": "c39c6352-cd6e-4642-9117-cb859b834c90",
   "metadata": {},
   "source": [
    "##### Category"
   ]
  },
  {
   "cell_type": "code",
   "execution_count": 11,
   "id": "67e5f8a0-044a-4f5e-b9c3-131cf66af5d5",
   "metadata": {},
   "outputs": [
    {
     "data": {
      "text/plain": [
       "Film & Video    46932\n",
       "Music           40225\n",
       "Publishing      28677\n",
       "Art             20448\n",
       "Games           20229\n",
       "Design          18485\n",
       "Technology      18058\n",
       "Food            18033\n",
       "Fashion         14536\n",
       "Theater          8194\n",
       "Comics           8159\n",
       "Photography      7229\n",
       "Crafts           5963\n",
       "Journalism       3109\n",
       "Dance            3081\n",
       "Name: Category, dtype: int64"
      ]
     },
     "execution_count": 11,
     "metadata": {},
     "output_type": "execute_result"
    }
   ],
   "source": [
    "#Category variable\n",
    "us_filt[\"Category\"].value_counts()"
   ]
  },
  {
   "cell_type": "markdown",
   "id": "ccf306b0-b1ca-4958-a9fc-14ac3c464698",
   "metadata": {},
   "source": [
    "<br>\n",
    "\n",
    "It looks like `Category` is a nominal variable with 15 distinct levels. Some levels (e.g. \"Film and Video\" or \"Music\") seem to have substantially more observations than other levels (such as \"Journalism\" or \"Dance\"), which only contain a few thousand observations. It is questionable if this column will be of much help to our future analysis, so we will probably drop this column in the section below."
   ]
  },
  {
   "cell_type": "markdown",
   "id": "84a2a771-26ff-4e88-bf88-0f9dcb9214e5",
   "metadata": {},
   "source": [
    "<hr class=\"faint\">"
   ]
  },
  {
   "cell_type": "markdown",
   "id": "c1c25888-3c68-406f-a7ee-ddd0baa4819e",
   "metadata": {},
   "source": [
    "##### Subcategory"
   ]
  },
  {
   "cell_type": "code",
   "execution_count": 12,
   "id": "7976bd7f-6508-4c33-8b93-a05ab7d20a28",
   "metadata": {},
   "outputs": [
    {
     "data": {
      "text/plain": [
       "Product Design     13732\n",
       "Documentary        12349\n",
       "Music              10926\n",
       "Shorts              9534\n",
       "Tabletop Games      8939\n",
       "                   ...  \n",
       "Residencies           43\n",
       "Letterpress           32\n",
       "Chiptune              22\n",
       "Literary Spaces       13\n",
       "Taxidermy              6\n",
       "Name: Subcategory, Length: 159, dtype: int64"
      ]
     },
     "execution_count": 12,
     "metadata": {},
     "output_type": "execute_result"
    }
   ],
   "source": [
    "#Subcategory variable\n",
    "us_filt[\"Subcategory\"].value_counts()"
   ]
  },
  {
   "cell_type": "markdown",
   "id": "66b23e75-01fa-4b71-8876-f4f11e2f5b35",
   "metadata": {},
   "source": [
    "<br>\n",
    "\n",
    "It looks `Subcategory` is a nominal variable with 159 distinct values. We can probably drop this column in the section below, as it likely has too many levels to be useful in our future analysis."
   ]
  },
  {
   "cell_type": "markdown",
   "id": "bffa0665-207e-4b29-9088-429b35f147ae",
   "metadata": {},
   "source": [
    "<hr class=\"faint\">"
   ]
  },
  {
   "cell_type": "markdown",
   "id": "31981cb0-3abe-426a-831a-60710e26a22e",
   "metadata": {},
   "source": [
    "##### Country"
   ]
  },
  {
   "cell_type": "code",
   "execution_count": 13,
   "id": "2324fe3c-3973-4b73-a8a3-a33fbd39e4d1",
   "metadata": {},
   "outputs": [
    {
     "data": {
      "text/plain": [
       "United States    261358\n",
       "Name: Country, dtype: int64"
      ]
     },
     "execution_count": 13,
     "metadata": {},
     "output_type": "execute_result"
    }
   ],
   "source": [
    "#Country variable\n",
    "us_filt[\"Country\"].value_counts()"
   ]
  },
  {
   "cell_type": "markdown",
   "id": "fc22dbe6-65be-4f34-986a-038af0f14758",
   "metadata": {},
   "source": [
    "<br>\n",
    "\n",
    "We already subset our data so that it only includes observations for the United States. Thus, the `Country` column should only have one value. Above, we see this is the case."
   ]
  },
  {
   "cell_type": "markdown",
   "id": "1b537c97-afdb-4dec-b8c7-e50ccce6ff2f",
   "metadata": {},
   "source": [
    "<hr class=\"faint\">"
   ]
  },
  {
   "cell_type": "markdown",
   "id": "e9658b3a-754c-453d-b5a3-d08abc94f09b",
   "metadata": {},
   "source": [
    "##### Launch Date"
   ]
  },
  {
   "cell_type": "markdown",
   "id": "004f9a7e-7f39-4e3d-9d00-e7dc3e3c865a",
   "metadata": {},
   "source": [
    "The `Launched` column represents each campaign's initial launch date. Let's see what format each launch date is stored in using the code below:"
   ]
  },
  {
   "cell_type": "code",
   "execution_count": 14,
   "id": "8c280dfc-b925-40cf-aa22-ebc98f0061ae",
   "metadata": {},
   "outputs": [
    {
     "data": {
      "text/plain": [
       "0    2009-04-21 21:02:48\n",
       "1    2009-04-23 00:07:53\n",
       "2    2009-04-24 21:52:03\n",
       "3    2009-04-25 17:36:21\n",
       "4    2009-04-27 14:10:39\n",
       "Name: Launched, dtype: object"
      ]
     },
     "execution_count": 14,
     "metadata": {},
     "output_type": "execute_result"
    }
   ],
   "source": [
    "us_filt[\"Launched\"].head()"
   ]
  },
  {
   "cell_type": "code",
   "execution_count": 15,
   "id": "1cf7e2b1-3ab6-41fc-ba42-5504a8eed5b8",
   "metadata": {},
   "outputs": [
    {
     "data": {
      "text/plain": [
       "str"
      ]
     },
     "execution_count": 15,
     "metadata": {},
     "output_type": "execute_result"
    }
   ],
   "source": [
    "type(us_filt[\"Launched\"][0])"
   ]
  },
  {
   "cell_type": "markdown",
   "id": "8b26dd39-c5f5-4965-b068-5df08fd923b3",
   "metadata": {},
   "source": [
    "We see that the `Launched` column contains strings representing dates in \"%Y-%m-%d %H:%M:%S\" format. To allow us to calculate a timedelta between each campaign's fundraising deadline and launch date, we should go ahead an convert these strings into datetime objects. We can use Pandas `to_datetime()` to convert each string into a Pandas datetime object:"
   ]
  },
  {
   "cell_type": "code",
   "execution_count": 16,
   "id": "e7e53b29-6fc1-4b9d-9907-d9cba410e700",
   "metadata": {},
   "outputs": [],
   "source": [
    "#Convert column from str aformat into datetime format\n",
    "us_filt[\"Launched\"] = pd.to_datetime(us_filt[\"Launched\"], format=\"%Y-%m-%d %H:%M:%S\")"
   ]
  },
  {
   "cell_type": "markdown",
   "id": "6f4bc87a-9507-4522-8389-62f508821ea6",
   "metadata": {},
   "source": [
    "Now, let's look at a histogram of dates within the `Launched` column to check for outliers:"
   ]
  },
  {
   "cell_type": "code",
   "execution_count": 17,
   "id": "d2d40bfe-6c75-4da4-a501-0ac4640501e0",
   "metadata": {},
   "outputs": [
    {
     "data": {
      "image/png": "[encoded data removed]",
      "text/plain": [
       "<Figure size 432x288 with 1 Axes>"
      ]
     },
     "metadata": {
      "needs_background": "light"
     },
     "output_type": "display_data"
    }
   ],
   "source": [
    "#Plot histogram of launch dates\n",
    "plt.hist(us_filt[\"Launched\"])\n",
    "plt.xlabel(\"Year\")\n",
    "plt.ylabel(\"Count\")\n",
    "plt.title(\"Distribution of Campaign Launch Dates\")\n",
    "plt.show()"
   ]
  },
  {
   "cell_type": "markdown",
   "id": "d0cead99-9e21-41e6-9d6a-abbb27797e57",
   "metadata": {},
   "source": [
    "It looks like the dates within the `Launched` column seem to follow a normal distribution (maybe a bit left skewed) and fall between 2009-2018. "
   ]
  },
  {
   "cell_type": "code",
   "execution_count": 18,
   "id": "4f3d45a5-5dd4-4f59-bc68-7af537f83473",
   "metadata": {},
   "outputs": [
    {
     "data": {
      "text/plain": [
       "Timestamp('2009-04-21 21:02:48')"
      ]
     },
     "execution_count": 18,
     "metadata": {},
     "output_type": "execute_result"
    }
   ],
   "source": [
    "min(us_filt[\"Launched\"])"
   ]
  },
  {
   "cell_type": "markdown",
   "id": "c5481c7c-9798-499b-a12d-ab7bce3c3d06",
   "metadata": {},
   "source": [
    "Additionally, it looks like our earliest campaign was launched on April 21, 2009, which is right around the time when Kickstarter was [founded](https://www.kickstarter.com/about#:~:text=Since%20our%20launch%2C%20on%20April,projects%20have%20been%20successfully%20funded.). Thus, it doesn't seem like we have any outliers in the `Launched` column, so no additional cleaning is necessary at this time."
   ]
  },
  {
   "cell_type": "markdown",
   "id": "9032f736-6898-419d-bfc0-09936e93d0b3",
   "metadata": {},
   "source": [
    "<hr class=\"faint\">"
   ]
  },
  {
   "cell_type": "markdown",
   "id": "d6523bd9-27fa-4ff2-9c6a-69b2cfb49d1d",
   "metadata": {},
   "source": [
    "##### Deadline\n",
    "The `Deadline` column represents the date on which each campaign's fundraising period closed (i.e., its fundraising deadline). Let's take the same approach that we used for `Launched` and see what format deadlines are stored in using the code below:"
   ]
  },
  {
   "cell_type": "code",
   "execution_count": 19,
   "id": "e0bcf450-6066-488d-81b9-7cbf32d96ad1",
   "metadata": {},
   "outputs": [
    {
     "data": {
      "text/plain": [
       "0    2009-05-31\n",
       "1    2009-07-20\n",
       "2    2009-05-03\n",
       "3    2009-07-14\n",
       "4    2009-05-26\n",
       "Name: Deadline, dtype: object"
      ]
     },
     "execution_count": 19,
     "metadata": {},
     "output_type": "execute_result"
    }
   ],
   "source": [
    "us_filt[\"Deadline\"].head()"
   ]
  },
  {
   "cell_type": "code",
   "execution_count": 20,
   "id": "08828515-d25e-4e22-abb9-82cac3bdb4a1",
   "metadata": {},
   "outputs": [
    {
     "data": {
      "text/plain": [
       "pandas._libs.tslibs.timestamps.Timestamp"
      ]
     },
     "execution_count": 20,
     "metadata": {},
     "output_type": "execute_result"
    }
   ],
   "source": [
    "type(us_filt[\"Launched\"][0])"
   ]
  },
  {
   "cell_type": "markdown",
   "id": "a488f231-2ba5-41ce-b30c-1e52b40e8c8c",
   "metadata": {},
   "source": [
    "Unlike the `Launched` column, it looks like dates in the `Deadline` column are stored as Pandas timestamp objects in the \"%Y-%m-%d\" format. For consistency, we will convert these dates into Pandas datetime objects:"
   ]
  },
  {
   "cell_type": "code",
   "execution_count": 21,
   "id": "58f51a39-4f80-4b68-b3fd-a40b763c4f6d",
   "metadata": {},
   "outputs": [],
   "source": [
    "#Convert column from str format into datetime format\n",
    "us_filt[\"Deadline\"] = pd.to_datetime(us_filt[\"Deadline\"], format=\"%Y-%m-%d\")"
   ]
  },
  {
   "cell_type": "markdown",
   "id": "0a63a748-60a5-4b84-9405-144a79e8aee7",
   "metadata": {},
   "source": [
    "Let's look at a histogram of dates within the `Deadline` column to check for outliers:"
   ]
  },
  {
   "cell_type": "code",
   "execution_count": 22,
   "id": "456676dd-7016-4771-a511-6eb291b31572",
   "metadata": {},
   "outputs": [
    {
     "data": {
      "image/png": "[encoded data removed]",
      "text/plain": [
       "<Figure size 432x288 with 1 Axes>"
      ]
     },
     "metadata": {
      "needs_background": "light"
     },
     "output_type": "display_data"
    }
   ],
   "source": [
    "#Plot histogram of launch dates\n",
    "plt.hist(us_filt[\"Deadline\"])\n",
    "plt.xlabel(\"Year\")\n",
    "plt.ylabel(\"Count\")\n",
    "plt.title(\"Distribution of Campaign Fundraising Deadlines\")\n",
    "plt.show()"
   ]
  },
  {
   "cell_type": "markdown",
   "id": "51f69918-8268-4522-8541-1a8f5fed2bcc",
   "metadata": {},
   "source": [
    "We see a similar spread to the histogram for values in `Launched`, as well as values between 2009 and 2018. This suggests that there are no outliers in `Deadline` that need to be addressed as of yet."
   ]
  },
  {
   "cell_type": "markdown",
   "id": "fc5eb3d2-14fe-45c1-9e2c-2b472008c70b",
   "metadata": {},
   "source": [
    "<hr class=\"faint\">"
   ]
  },
  {
   "cell_type": "markdown",
   "id": "0066d602-65d8-44f8-80a1-69467a66295a",
   "metadata": {},
   "source": [
    "##### Fundraising Period"
   ]
  },
  {
   "cell_type": "markdown",
   "id": "4b975de5-67c3-4df6-be3a-8b7aa59699d7",
   "metadata": {},
   "source": [
    "Using the code above, we've seen that the values in `Launched` and `Deadline` look OK. However, we need to confirm that each campaign actually has a valid fundraising period - or rather, that each campaign's fundraising deadline takes place *after* its initial campaign launch date.\n",
    "\n",
    "To check this, we can create a new column in our dataframe (`fund_days`) that contains the timedelta between each campaign's fundraising deadline and launch date converted into days:"
   ]
  },
  {
   "cell_type": "code",
   "execution_count": 23,
   "id": "87539c3d-ef86-45f7-b1fc-1369b632ca10",
   "metadata": {},
   "outputs": [],
   "source": [
    "#Calculate time delta for each campaign period\n",
    "fund_period = us_filt[\"Deadline\"] - us_filt[\"Launched\"]\n",
    "\n",
    "#Convert time deltas to days (float)\n",
    "us_filt[\"fund_days\"] = fund_period.dt.total_seconds() / 3600 / 24"
   ]
  },
  {
   "cell_type": "markdown",
   "id": "abbb2e73-3653-418e-bc4a-7e2f67dd2e73",
   "metadata": {},
   "source": [
    "Let's examine our new `fund_days` column to confirm that the fundraising period for each of our campaigns is valid:"
   ]
  },
  {
   "cell_type": "code",
   "execution_count": 24,
   "id": "ab4b186a-b262-42f4-a70c-ea6b8cbad892",
   "metadata": {},
   "outputs": [
    {
     "name": "stdout",
     "output_type": "stream",
     "text": [
      "0 Null Values\n"
     ]
    }
   ],
   "source": [
    "#Return total number of null values, if any\n",
    "print(str(us_filt[\"fund_days\"].isnull().sum()) + \" Null Values\")"
   ]
  },
  {
   "cell_type": "code",
   "execution_count": 25,
   "id": "15324935-0772-4688-a3d3-9dc7f98d00a4",
   "metadata": {},
   "outputs": [
    {
     "data": {
      "text/plain": [
       "count    261358.000000\n",
       "mean         33.628154\n",
       "std          13.015217\n",
       "min           0.005058\n",
       "25%          29.090854\n",
       "50%          29.743773\n",
       "75%          36.353102\n",
       "max          91.962650\n",
       "Name: fund_days, dtype: float64"
      ]
     },
     "execution_count": 25,
     "metadata": {},
     "output_type": "execute_result"
    }
   ],
   "source": [
    "#Return summary statistics\n",
    "us_filt[\"fund_days\"].describe()"
   ]
  },
  {
   "cell_type": "code",
   "execution_count": 26,
   "id": "85f1efb6-3def-416e-b6de-9b4d4c3ce8af",
   "metadata": {},
   "outputs": [
    {
     "data": {
      "image/png": "[encoded data removed]",
      "text/plain": [
       "<Figure size 432x288 with 1 Axes>"
      ]
     },
     "metadata": {
      "needs_background": "light"
     },
     "output_type": "display_data"
    }
   ],
   "source": [
    "#Plot histogram of fundraising periods \n",
    "plt.hist(us_filt[\"fund_days\"])\n",
    "plt.xlabel('Fundraising Period (Days)')\n",
    "plt.ylabel('Count')\n",
    "plt.show()"
   ]
  },
  {
   "cell_type": "markdown",
   "id": "8b81d24a-c834-4542-abda-766dcaf87560",
   "metadata": {},
   "source": [
    "Above, we see that the fundraising periods for our campaigns are between 0 and 92 days in duration. We do not have any negative or null fundraising periods, which suggests that no additional cleaning is necessary for this column."
   ]
  },
  {
   "cell_type": "markdown",
   "id": "a4da0345-89f1-410e-95d0-2727e92d7779",
   "metadata": {},
   "source": [
    "<hr class=\"faint\">"
   ]
  },
  {
   "cell_type": "markdown",
   "id": "f80c32bb-e937-4029-89c3-6a36237c84cf",
   "metadata": {},
   "source": [
    "##### Fundraising Goal"
   ]
  },
  {
   "cell_type": "markdown",
   "id": "625338ab-7f8d-4989-bb79-6645c4be649d",
   "metadata": {},
   "source": [
    "Let's explore values in the fundraising goal (`Goal`) column below:"
   ]
  },
  {
   "cell_type": "code",
   "execution_count": 27,
   "id": "c5759c5a-efa1-4836-9bc9-891699e26376",
   "metadata": {},
   "outputs": [
    {
     "data": {
      "text/plain": [
       "count    2.613580e+05\n",
       "mean     3.934893e+04\n",
       "std      1.035441e+06\n",
       "min      0.000000e+00\n",
       "25%      2.000000e+03\n",
       "50%      5.000000e+03\n",
       "75%      1.500000e+04\n",
       "max      1.000000e+08\n",
       "Name: Goal, dtype: float64"
      ]
     },
     "execution_count": 27,
     "metadata": {},
     "output_type": "execute_result"
    }
   ],
   "source": [
    "#Return summary statistics\n",
    "us_filt[\"Goal\"].describe()"
   ]
  },
  {
   "cell_type": "code",
   "execution_count": 28,
   "id": "c971f4b1-e373-4171-934f-76519fa1538b",
   "metadata": {},
   "outputs": [
    {
     "data": {
      "text/plain": [
       "5000.0"
      ]
     },
     "execution_count": 28,
     "metadata": {},
     "output_type": "execute_result"
    }
   ],
   "source": [
    "us_filt[\"Goal\"].median()"
   ]
  },
  {
   "cell_type": "markdown",
   "id": "ad25b63a-7f0b-4760-bfca-a5e2d99f5c9f",
   "metadata": {},
   "source": [
    "Based on the information above, we see that a majority (75%) of campaign fundraising goals are below \\\\$1,500 USD, with an average goal of roughly \\\\$3,935 USD and a median goal of $5,000 USD. However, we see that the values in this column have a very large range (to the tune of \\\\$100 million USD!). We also see that our data has a standard deviation of over \\\\$1 million USD, indicating that there is quite a bit of spread around the mean value.\n",
    "\n",
    "We can see this in the histogram below:"
   ]
  },
  {
   "cell_type": "code",
   "execution_count": 29,
   "id": "95934a07-75a4-4ced-8758-326950401e82",
   "metadata": {},
   "outputs": [
    {
     "data": {
      "image/png": "[encoded data removed]",
      "text/plain": [
       "<Figure size 432x288 with 1 Axes>"
      ]
     },
     "metadata": {
      "needs_background": "light"
     },
     "output_type": "display_data"
    }
   ],
   "source": [
    "#Goal\n",
    "plt.hist(us_filt[\"Goal\"])\n",
    "plt.xlabel('Fundraising Goal (USD)')\n",
    "plt.ylabel('Count')\n",
    "plt.title('Distribution of Fundraising Goals (USD)')\n",
    "plt.show()"
   ]
  },
  {
   "cell_type": "markdown",
   "id": "e26c407d-e03c-4145-a2bd-f104b721db9c",
   "metadata": {},
   "source": [
    "Let's try reducing the range of the data we plot in our histogram, excluding campaigns with fundraising goals greater than $100,000 USD:"
   ]
  },
  {
   "cell_type": "code",
   "execution_count": 30,
   "id": "36aa53f3-36fa-4ec7-ba83-ef421f062a3c",
   "metadata": {},
   "outputs": [
    {
     "data": {
      "image/png": "[encoded data removed]",
      "text/plain": [
       "<Figure size 432x288 with 1 Axes>"
      ]
     },
     "metadata": {
      "needs_background": "light"
     },
     "output_type": "display_data"
    }
   ],
   "source": [
    "#Goal\n",
    "plt.hist(us_filt[\"Goal\"][us_filt[\"Goal\"] <= 100000], bins=20)\n",
    "plt.xlabel('Fundraising Goal (USD)')\n",
    "plt.ylabel('Count')\n",
    "plt.title('Distribution of Fundraising Goals < 1 Million USD')\n",
    "plt.show()"
   ]
  },
  {
   "cell_type": "markdown",
   "id": "2e0d023b-f7bf-4315-8ac2-6542ed99b89f",
   "metadata": {},
   "source": [
    "In this histogram above, we can see that this variable is highly right-skewed, with most campaigns having relatively small fundraising goals.\n",
    "\n",
    "Although we have a very large range for the data in the `Goal` column, it is still valid and will likely help to inform our future analysis. Thus, we won't take additional cleaning steps for `Goal` at this time."
   ]
  },
  {
   "cell_type": "markdown",
   "id": "6ebc1f36-0180-4642-b6f4-17542ef4258f",
   "metadata": {},
   "source": [
    "<hr class=\"faint\">"
   ]
  },
  {
   "cell_type": "markdown",
   "id": "3f7d17b2-7d0b-4cc7-ae07-77dcf4e323c7",
   "metadata": {},
   "source": [
    "##### Number of Backers\n",
    "Next, let's explore values in the \"number of backers\" (`Backers`) column below:"
   ]
  },
  {
   "cell_type": "code",
   "execution_count": 31,
   "id": "a00a063b-4a3a-4a02-8689-5629cc25f4c6",
   "metadata": {},
   "outputs": [
    {
     "data": {
      "text/plain": [
       "count    261358.000000\n",
       "mean        122.745655\n",
       "std        1039.320806\n",
       "min           0.000000\n",
       "25%           2.000000\n",
       "50%          17.000000\n",
       "75%          66.000000\n",
       "max      219382.000000\n",
       "Name: Backers, dtype: float64"
      ]
     },
     "execution_count": 31,
     "metadata": {},
     "output_type": "execute_result"
    }
   ],
   "source": [
    "#Return summary statistics\n",
    "us_filt[\"Backers\"].describe()"
   ]
  },
  {
   "cell_type": "code",
   "execution_count": 32,
   "id": "6ec86b1c-2948-4303-b6f6-076b2425cecd",
   "metadata": {},
   "outputs": [
    {
     "data": {
      "text/plain": [
       "17.0"
      ]
     },
     "execution_count": 32,
     "metadata": {},
     "output_type": "execute_result"
    }
   ],
   "source": [
    "#Calculate median value\n",
    "us_filt[\"Backers\"].median()"
   ]
  },
  {
   "cell_type": "markdown",
   "id": "eaf2ab4b-7fc3-4f16-8d06-8aa71d36a7ae",
   "metadata": {},
   "source": [
    "We see that a majority (75%) of campaigns have 66 or fewer backers, with a median value of 17 backers. Similar to our `Goal` column, we see that the values in this column have a very large range (with the most popular campaign having over 200,000 backers!).\n",
    "\n",
    "We can see this in the histogram below:"
   ]
  },
  {
   "cell_type": "code",
   "execution_count": 33,
   "id": "e4e8cc5d-656e-4d8e-881b-a901eabadf36",
   "metadata": {},
   "outputs": [
    {
     "data": {
      "image/png": "[encoded data removed]",
      "text/plain": [
       "<Figure size 432x288 with 1 Axes>"
      ]
     },
     "metadata": {
      "needs_background": "light"
     },
     "output_type": "display_data"
    }
   ],
   "source": [
    "#Generate histogram\n",
    "plt.hist(us_filt[\"Backers\"])\n",
    "plt.xlabel('Individuals')\n",
    "plt.ylabel('Count')\n",
    "plt.title('Distribution of Campaign Backers')\n",
    "plt.show()"
   ]
  },
  {
   "cell_type": "markdown",
   "id": "1f89e03b-3986-4d7a-9930-9fa6e2c53b3a",
   "metadata": {},
   "source": [
    "Again, let's try reducing the range of the data we plot to exclude campaigns with more than 1000 backers:"
   ]
  },
  {
   "cell_type": "code",
   "execution_count": 34,
   "id": "5b0baaf3-88fe-4c6d-8494-95e47cdaca1a",
   "metadata": {},
   "outputs": [
    {
     "data": {
      "image/png": "[encoded data removed]",
      "text/plain": [
       "<Figure size 432x288 with 1 Axes>"
      ]
     },
     "metadata": {
      "needs_background": "light"
     },
     "output_type": "display_data"
    }
   ],
   "source": [
    "#Generate histogram\n",
    "plt.hist(us_filt[\"Backers\"][us_filt[\"Backers\"] <= 1000], bins=20)\n",
    "plt.xlabel('Individuals')\n",
    "plt.ylabel('Count')\n",
    "plt.title('Distribution of Campaign Backers < 1000')\n",
    "plt.show()"
   ]
  },
  {
   "cell_type": "markdown",
   "id": "a714a174-4c31-45cb-bf6f-38b472725f7d",
   "metadata": {},
   "source": [
    "Similar to `Goal`, we can see that this variable is highly right-skewed, with most campaigns having relatively few backers.\n",
    "\n",
    "Again, despite having a very large range in this column, the data within `Backers` is valid and will likely help to inform our future analysis. Thus, we can move forward with our exploration and cleaning."
   ]
  },
  {
   "cell_type": "markdown",
   "id": "7797a344-9908-4e46-ab40-390da214cd1c",
   "metadata": {},
   "source": [
    "<hr class=\"faint\">"
   ]
  },
  {
   "cell_type": "markdown",
   "id": "b4337394-eb0a-4625-bd0c-713a103aea56",
   "metadata": {},
   "source": [
    "<div id=\"add-columns\"></div>\n",
    "\n",
    "### Create New Columns"
   ]
  },
  {
   "cell_type": "markdown",
   "id": "fb74b1f9-dc80-4652-8ad0-42d0fbcf89c6",
   "metadata": {},
   "source": [
    "The next step in our exploration/cleaning process is to **add a few columns that might be useful** for our future analysis.\n",
    "\n",
    "- Campaign title length\n",
    "- Time since Kickstarter launch\n",
    "- Season"
   ]
  },
  {
   "cell_type": "markdown",
   "id": "d3ee06e7-92ce-432b-9a40-d28fa7a54b96",
   "metadata": {},
   "source": [
    "#### Campaign Title Length (Chars)\n",
    "Could the length of each campaign title on Kickstarter affect that campaign's success? Are shorter titles more effective at attracting donors than longer titles? This could be an interesting variable to add to our future analysis.\n",
    "\n",
    "We can quickly calculate each campaign's title length using Pandas string methods below:"
   ]
  },
  {
   "cell_type": "code",
   "execution_count": 35,
   "id": "18b95ef5-3464-4862-91aa-3c52e97f1297",
   "metadata": {},
   "outputs": [],
   "source": [
    "#Create column\n",
    "us_filt[\"name_len\"] = us_filt[\"Name\"].str.len()"
   ]
  },
  {
   "cell_type": "markdown",
   "id": "8f488ee5-0f6a-4a75-855b-ce1c61707bd8",
   "metadata": {},
   "source": [
    "Let's quickly explore the distribution of name length across our campaigns:"
   ]
  },
  {
   "cell_type": "code",
   "execution_count": 36,
   "id": "eeb57004-8e11-4178-9dac-c70bf547cd7d",
   "metadata": {},
   "outputs": [
    {
     "data": {
      "image/png": "[encoded data removed]",
      "text/plain": [
       "<Figure size 432x288 with 1 Axes>"
      ]
     },
     "metadata": {
      "needs_background": "light"
     },
     "output_type": "display_data"
    }
   ],
   "source": [
    "#Explore column\n",
    "plt.hist(us_filt[\"name_len\"])\n",
    "plt.xlabel(\"Length of Campaign Name (Characters)\")\n",
    "plt.ylabel(\"Count\")\n",
    "plt.show()"
   ]
  },
  {
   "cell_type": "markdown",
   "id": "19ce62e6-2cb9-4dae-842b-6dcd22211d08",
   "metadata": {},
   "source": [
    "Surprisingly, it looks like campaign name length has a relatively normal distribution - interesting!"
   ]
  },
  {
   "cell_type": "markdown",
   "id": "ecd76b8f-1c99-48cc-bae1-6c8ae3b08a2b",
   "metadata": {},
   "source": [
    "<hr class=\"faint\">"
   ]
  },
  {
   "cell_type": "markdown",
   "id": "d50a4302-9d21-47a3-b01e-5da2d93d6026",
   "metadata": {},
   "source": [
    "#### Time Since Kickstarter Launch (Years)\n",
    "It seems possible that campaigns launched in the early days of Kickstarter may have been either less or more popular than campaigns launched after the platform had been in existence for several years. By including \"time since Kickstarter launch\" as a variable, we can potentially account for this in our analysis. We use the code below to save this variable in the `years_since` column:"
   ]
  },
  {
   "cell_type": "code",
   "execution_count": 37,
   "id": "63d3b62f-1316-44c2-85f6-b7a63990a23c",
   "metadata": {},
   "outputs": [],
   "source": [
    "#Create launch year column\n",
    "us_filt[\"years_since\"] = us_filt[\"Launched\"].dt.year - 2009"
   ]
  },
  {
   "cell_type": "markdown",
   "id": "23054a5d-2ad8-4969-b94f-7cf6a336fb1e",
   "metadata": {},
   "source": [
    "<hr class=\"faint\">"
   ]
  },
  {
   "cell_type": "markdown",
   "id": "4a69de0c-d2e0-4f4b-b629-0451a2361855",
   "metadata": {},
   "source": [
    "#### Season\n",
    "It also seems popular that campaigns launched during specific times of year could be more successful than others. For example, are campaigns in the US launched during winter more likely to succeed because people might be more generous due to proximity to winter holidays? We can add this variable to our dataframe for future analysis.\n",
    "\n",
    "For the purpose of our analysis (in which we'll use logistic regression), we need to add this categorical variable to our dataframe so that each season has its own column with corresponding Boolean values (i.e., 0 or 1) indicating whether or not a given observation was launched in that season:"
   ]
  },
  {
   "cell_type": "code",
   "execution_count": 38,
   "id": "2cdca312-11e3-47f6-8b69-ed9f3ed390c8",
   "metadata": {},
   "outputs": [],
   "source": [
    "#List of seasons\n",
    "seasons = [\"s_winter\", \"s_spring\", \"s_summer\", \"s_fall\"]\n",
    "\n",
    "#Add new columns\n",
    "for season, num in zip(seasons, list(range(1,5))):\n",
    "    us_filt[season] = (us_filt[\"Launched\"].dt.month%12 // 3 + 1 == num).astype(int)"
   ]
  },
  {
   "cell_type": "markdown",
   "id": "320cf061-9f40-4179-8282-a9257c19ffa5",
   "metadata": {},
   "source": [
    "In the table below, we can see that there have been relatively similar numbers of campaigns launched in each of the seasons:"
   ]
  },
  {
   "cell_type": "code",
   "execution_count": 39,
   "id": "84f6950d-bff5-40eb-bd9d-094c9b1a5e43",
   "metadata": {},
   "outputs": [
    {
     "data": {
      "text/plain": [
       "s_winter    54727\n",
       "s_spring    69853\n",
       "s_summer    71324\n",
       "s_fall      65454\n",
       "dtype: int64"
      ]
     },
     "execution_count": 39,
     "metadata": {},
     "output_type": "execute_result"
    }
   ],
   "source": [
    "#Counts by season\n",
    "us_filt[seasons].sum()"
   ]
  },
  {
   "cell_type": "markdown",
   "id": "bb1e2853-cef9-4101-a3c9-e4608f0692f7",
   "metadata": {},
   "source": [
    "<hr class=\"faint\">"
   ]
  },
  {
   "cell_type": "markdown",
   "id": "efe37bfd-aa2f-4f44-ac30-90f336e32d0e",
   "metadata": {},
   "source": [
    "<div id=\"drop-columns\"></div>\n",
    "\n",
    "### Drop Unnecessary Columns"
   ]
  },
  {
   "cell_type": "markdown",
   "id": "2a6d3ea6-d2fc-4b59-904d-b6116bd8f837",
   "metadata": {},
   "source": [
    "We've explored our data and cleaned each column of interest. Now, we can go ahead and **drop columns that won't be of use to us** in our final analysis. Below, we drop the following columns:\n",
    "- `ID` - since we removed all duplicate rows and are retaining campaign names, this column is unnecessary\n",
    "- `Category`, `Subcategory` - this categorical variable has a few too many levels to be of use (and we aren't able to objectively re-categorize into larger categories)\n",
    "- `Country` - all of our observations are for the United States, so this column is unnecessary to keep\n",
    "- `Launched`, `Deadline` - we have added two new variables to our dataset (`fund_days` and `season`) that better capture the temporal information we're interested in\n",
    "- `Pledged` - we are primarily interested in the final outcome of each campaign (i.e., success vs failure), *not* in the percentage of each campaign's fundraising goal that was raised"
   ]
  },
  {
   "cell_type": "code",
   "execution_count": 40,
   "id": "02a96459-7cd8-4617-8868-1ff6d5732810",
   "metadata": {},
   "outputs": [],
   "source": [
    "#Drop ID and Pledged columns\n",
    "drops = ['ID','Category', 'Subcategory','Country', 'Launched', 'Deadline', 'Pledged']\n",
    "us_filt = us_filt.drop(drops, axis=1)"
   ]
  },
  {
   "cell_type": "markdown",
   "id": "33f777b5-566b-4669-81ff-7d7969c29df9",
   "metadata": {},
   "source": [
    "<div id=\"save-csv\"></div>\n",
    "\n",
    "***\n",
    "## Save Cleaned CSV for Analysis"
   ]
  },
  {
   "cell_type": "markdown",
   "id": "eac7c4b0-8c33-432b-9b64-b31e31ea2a6d",
   "metadata": {},
   "source": [
    "Our final step in the data cleaning process is to **save our cleaned data as a CSV**! Before we do so, let's take one last look at the data to make sure that everything looks good:"
   ]
  },
  {
   "cell_type": "code",
   "execution_count": 41,
   "id": "c4aefc01-6f1b-40b8-b0af-05ea00fc09c8",
   "metadata": {},
   "outputs": [
    {
     "data": {
      "text/html": [
       "<div>\n",
       "<style scoped>\n",
       "    .dataframe tbody tr th:only-of-type {\n",
       "        vertical-align: middle;\n",
       "    }\n",
       "\n",
       "    .dataframe tbody tr th {\n",
       "        vertical-align: top;\n",
       "    }\n",
       "\n",
       "    .dataframe thead th {\n",
       "        text-align: right;\n",
       "    }\n",
       "</style>\n",
       "<table border=\"1\" class=\"dataframe\">\n",
       "  <thead>\n",
       "    <tr style=\"text-align: right;\">\n",
       "      <th></th>\n",
       "      <th>Name</th>\n",
       "      <th>Goal</th>\n",
       "      <th>Backers</th>\n",
       "      <th>State</th>\n",
       "      <th>fund_days</th>\n",
       "      <th>name_len</th>\n",
       "      <th>years_since</th>\n",
       "      <th>s_winter</th>\n",
       "      <th>s_spring</th>\n",
       "      <th>s_summer</th>\n",
       "      <th>s_fall</th>\n",
       "    </tr>\n",
       "  </thead>\n",
       "  <tbody>\n",
       "    <tr>\n",
       "      <th>0</th>\n",
       "      <td>Grace Jones Does Not Give A F$#% T-Shirt (limi...</td>\n",
       "      <td>1000</td>\n",
       "      <td>30</td>\n",
       "      <td>0</td>\n",
       "      <td>39.123056</td>\n",
       "      <td>59</td>\n",
       "      <td>0</td>\n",
       "      <td>0</td>\n",
       "      <td>1</td>\n",
       "      <td>0</td>\n",
       "      <td>0</td>\n",
       "    </tr>\n",
       "    <tr>\n",
       "      <th>1</th>\n",
       "      <td>CRYSTAL ANTLERS UNTITLED MOVIE</td>\n",
       "      <td>80000</td>\n",
       "      <td>3</td>\n",
       "      <td>0</td>\n",
       "      <td>87.994525</td>\n",
       "      <td>30</td>\n",
       "      <td>0</td>\n",
       "      <td>0</td>\n",
       "      <td>1</td>\n",
       "      <td>0</td>\n",
       "      <td>0</td>\n",
       "    </tr>\n",
       "    <tr>\n",
       "      <th>2</th>\n",
       "      <td>drawing for dollars</td>\n",
       "      <td>20</td>\n",
       "      <td>3</td>\n",
       "      <td>1</td>\n",
       "      <td>8.088854</td>\n",
       "      <td>19</td>\n",
       "      <td>0</td>\n",
       "      <td>0</td>\n",
       "      <td>1</td>\n",
       "      <td>0</td>\n",
       "      <td>0</td>\n",
       "    </tr>\n",
       "    <tr>\n",
       "      <th>3</th>\n",
       "      <td>Offline Wikipedia iPhone app</td>\n",
       "      <td>99</td>\n",
       "      <td>25</td>\n",
       "      <td>1</td>\n",
       "      <td>79.266424</td>\n",
       "      <td>28</td>\n",
       "      <td>0</td>\n",
       "      <td>0</td>\n",
       "      <td>1</td>\n",
       "      <td>0</td>\n",
       "      <td>0</td>\n",
       "    </tr>\n",
       "    <tr>\n",
       "      <th>4</th>\n",
       "      <td>Pantshirts</td>\n",
       "      <td>1900</td>\n",
       "      <td>10</td>\n",
       "      <td>0</td>\n",
       "      <td>28.409271</td>\n",
       "      <td>10</td>\n",
       "      <td>0</td>\n",
       "      <td>0</td>\n",
       "      <td>1</td>\n",
       "      <td>0</td>\n",
       "      <td>0</td>\n",
       "    </tr>\n",
       "  </tbody>\n",
       "</table>\n",
       "</div>"
      ],
      "text/plain": [
       "                                                Name   Goal  Backers  State  \\\n",
       "0  Grace Jones Does Not Give A F$#% T-Shirt (limi...   1000       30      0   \n",
       "1                     CRYSTAL ANTLERS UNTITLED MOVIE  80000        3      0   \n",
       "2                                drawing for dollars     20        3      1   \n",
       "3                       Offline Wikipedia iPhone app     99       25      1   \n",
       "4                                         Pantshirts   1900       10      0   \n",
       "\n",
       "   fund_days  name_len  years_since  s_winter  s_spring  s_summer  s_fall  \n",
       "0  39.123056        59            0         0         1         0       0  \n",
       "1  87.994525        30            0         0         1         0       0  \n",
       "2   8.088854        19            0         0         1         0       0  \n",
       "3  79.266424        28            0         0         1         0       0  \n",
       "4  28.409271        10            0         0         1         0       0  "
      ]
     },
     "execution_count": 41,
     "metadata": {},
     "output_type": "execute_result"
    }
   ],
   "source": [
    "us_filt.head()"
   ]
  },
  {
   "cell_type": "markdown",
   "id": "57b20961-e01d-48d1-8eca-61d139cc79f0",
   "metadata": {},
   "source": [
    "It looks like the data only contains the specific variables we want to include in our future analysis. Let's go ahead and save our data as a CSV file:"
   ]
  },
  {
   "cell_type": "code",
   "execution_count": 42,
   "id": "057f83a5-1e1e-4ac2-9b7d-ec586f1d289f",
   "metadata": {},
   "outputs": [],
   "source": [
    "us_filt.to_csv(\"../data/cleaned_data.csv\", index=False)"
   ]
  },
  {
   "cell_type": "markdown",
   "id": "bffa6133-eb2c-4828-a366-69b322f543ec",
   "metadata": {},
   "source": [
    "<hr>"
   ]
  },
  {
   "cell_type": "markdown",
   "id": "60e30816-628f-4780-bb50-850bdd545cb6",
   "metadata": {},
   "source": [
    "<br>\n",
    "To view the analysis of this data and learn which factors in the dataset predict campaign success, visit the link below:\n",
    "\n",
    "<a href=\"https://john-salisbury.github.io/kickstarter-analysis\" target=\"_self\" style=\"font-size: 20px; font-weight: bold; text-decoration:underline\">View Data Analysis</a>\n",
    "<br><br>\n",
    "***"
   ]
  }
 ],
 "metadata": {
  "kernelspec": {
   "display_name": "Python 3 (ipykernel)",
   "language": "python",
   "name": "python3"
  },
  "language_info": {
   "codemirror_mode": {
    "name": "ipython",
    "version": 3
   },
   "file_extension": ".py",
   "mimetype": "text/x-python",
   "name": "python",
   "nbconvert_exporter": "python",
   "pygments_lexer": "ipython3",
   "version": "3.9.12"
  }
 },
 "nbformat": 4,
 "nbformat_minor": 5
}
