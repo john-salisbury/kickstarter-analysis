{
 "cells": [
  {
   "cell_type": "markdown",
   "id": "bbcf268c-5daf-4477-b825-0e428ce1f217",
   "metadata": {},
   "source": [
    "# Data Analysis - Predicting Kickstarter Campaign Success\n",
    "\n",
    "`Author: John Salisbury / Last Updated: Apr 11, 2023`\n",
    "***\n",
    "![Map of Dallas and SQL code](../img/kickstarter_cover.png)\n",
    "***"
   ]
  },
  {
   "cell_type": "markdown",
   "id": "7987d7f8-df0e-4ea9-ba6e-8183bef7d625",
   "metadata": {},
   "source": [
    "## Summary\n",
    "\n",
    "In this project, I **clean and analyze data on over 250k Kickstarter crowdfunding campaigns** that took place in the United States between 2009-2018, **using logistic regression** to identify factors that predict campaign success. \n",
    "\n",
    "In this particular notebook, I **run and interpret a logistic regression model**, allowing me to determine if certain factors in our dataset can predict whether or not Kickstarter campaigns succeed. To view the exploration and cleaning of this dataset, visit [this link](https://john-salisbury.github.io/kickstarter-analysis/data-cleaning) (or click on \"View Data Exploration/Cleaning\" above).\n",
    "\n",
    "--\n",
    "\n",
    "*Table of Contents:*\n",
    "<br>\n",
    "<a href=\"#modules-data\" class=\"toc\">Import Modules and Data</a>\n",
    "<br>\n",
    "<a href=\"#model-checks\" class=\"toc\">Pre-Model Checks</a>\n",
    "<br>\n",
    "<a href=\"#logistic-regression\" class=\"toc\">Run a Logistic Regression</a>\n",
    "<br>\n",
    "<a href=\"#model-interpretation\" class=\"toc\">Model Interpretation</a>\n",
    "<br>\n",
    "\n",
    "--\n",
    "\n",
    "*Find the data for this project on Kaggle:*\n",
    "<br>\n",
    "[Kickstarter Projects](https://www.kaggle.com/datasets/ulrikthygepedersen/kickstarter-projects)\n",
    "<br>"
   ]
  },
  {
   "cell_type": "markdown",
   "id": "13af3c98-4271-44d6-bd53-7b6f8a085e50",
   "metadata": {},
   "source": [
    "***\n",
    "<a href=\"https://john-salisbury.github.io/kickstarter-analysis/data-cleaning\" target=\"_self\" style=\"font-size: 20px; font-weight: bold; text-decoration:underline\">View Data Exploration/Cleaning</a>\n",
    "***"
   ]
  },
  {
   "cell_type": "markdown",
   "id": "9c1076e2-044b-45f0-a0f7-a35bf726535b",
   "metadata": {},
   "source": [
    "<div id=\"modules-data\"></div>\n",
    "\n",
    "## Import Modules and Data\n",
    "\n",
    "To begin our analysis, we first **import a number of common Python modules** (e.g., NumPy, Pandas, etc.) to our project. We also import the `statsmodels` module, which will allow us to run a logistic regression in which we can easily interpret beta coefficients from the final model: "
   ]
  },
  {
   "cell_type": "code",
   "execution_count": 1,
   "id": "ffcdc7d7-af54-4b15-8c10-4a851d149647",
   "metadata": {},
   "outputs": [],
   "source": [
    "#IMPORT MODULES ------\n",
    "\n",
    "#Stats modules\n",
    "import statsmodels.api as sm\n",
    "from statsmodels.stats.outliers_influence import variance_inflation_factor\n",
    "\n",
    "#Helper modules\n",
    "import matplotlib.pyplot as plt   #Plotting support\n",
    "import numpy as np   #Array support\n",
    "import pandas as pd   #DataFrame support\n",
    "import seaborn as sns   #Plotting support\n",
    "\n",
    "#Suppress warnings in Jupyter \n",
    "import warnings\n",
    "warnings.filterwarnings('ignore')\n",
    "\n",
    "#IPython - HTML notebook formatting\n",
    "from IPython.core.display import HTML"
   ]
  },
  {
   "cell_type": "markdown",
   "id": "ef6525c6-bb7c-44ca-b048-5b01a6c4a908",
   "metadata": {},
   "source": [
    "We'll also add some CSS to improve the look and feel of our notebook:"
   ]
  },
  {
   "cell_type": "code",
   "execution_count": 2,
   "id": "98f9a146-fc38-4418-8bfb-f0912337909a",
   "metadata": {},
   "outputs": [
    {
     "data": {
      "text/html": [
       "\n",
       "<style>\n",
       ".jp-needs-light-background {\n",
       "    display: block;\n",
       "    margin: auto;\n",
       "}\n",
       "\n",
       ".jp-OutputArea-output.jp-RenderedHTMLCommon table {\n",
       "    margin: 2em auto;\n",
       "    background: #eae9e9;\n",
       "    border: 1px solid #000;\n",
       "    font-size: 12px;\n",
       "}\n",
       "\n",
       ".toc {\n",
       "    font-size: 16px;\n",
       "}\n",
       "\n",
       ".nest-one {\n",
       "    margin-left: 1em;\n",
       "    font-style: italic;\n",
       "    font-size: 14px;\n",
       "}\n",
       "\n",
       ".nest-two {\n",
       "    margin-left: 3em;\n",
       "    font-style: italic;\n",
       "    font-size: 12px;\n",
       "}\n",
       "\n",
       ".faint {\n",
       "    opacity: 0.2;\n",
       "}\n",
       "</style>\n"
      ],
      "text/plain": [
       "<IPython.core.display.HTML object>"
      ]
     },
     "execution_count": 2,
     "metadata": {},
     "output_type": "execute_result"
    }
   ],
   "source": [
    "HTML(\"\"\"\n",
    "<style>\n",
    ".jp-needs-light-background {\n",
    "    display: block;\n",
    "    margin: auto;\n",
    "}\n",
    "\n",
    ".jp-OutputArea-output.jp-RenderedHTMLCommon table {\n",
    "    margin: 2em auto;\n",
    "    background: #eae9e9;\n",
    "    border: 1px solid #000;\n",
    "    font-size: 12px;\n",
    "}\n",
    "\n",
    ".toc {\n",
    "    font-size: 16px;\n",
    "}\n",
    "\n",
    ".nest-one {\n",
    "    margin-left: 1em;\n",
    "    font-style: italic;\n",
    "    font-size: 14px;\n",
    "}\n",
    "\n",
    ".nest-two {\n",
    "    margin-left: 3em;\n",
    "    font-style: italic;\n",
    "    font-size: 12px;\n",
    "}\n",
    "\n",
    ".faint {\n",
    "    opacity: 0.2;\n",
    "}\n",
    "</style>\n",
    "\"\"\")"
   ]
  },
  {
   "cell_type": "markdown",
   "id": "f36a8815-4aee-4dea-84f4-f8bd65eebe0a",
   "metadata": {},
   "source": [
    "And finally, we **import our cleaned data** as a dataframe:"
   ]
  },
  {
   "cell_type": "code",
   "execution_count": 3,
   "id": "f11c1ca2-0275-424c-b049-fdde29bf3652",
   "metadata": {},
   "outputs": [],
   "source": [
    "#IMPORT DATA ------\n",
    "\n",
    "#Import CSV as DataFrame\n",
    "data = pd.read_csv(\"../data/cleaned_data.csv\")"
   ]
  },
  {
   "cell_type": "markdown",
   "id": "b27914f1-1d95-46ad-903d-a3a572f87799",
   "metadata": {},
   "source": [
    "Let's just look at the head of our dataframe to verify that everything looks OK:"
   ]
  },
  {
   "cell_type": "code",
   "execution_count": 4,
   "id": "b4875486-bf92-4504-af88-c90d38e8b684",
   "metadata": {},
   "outputs": [
    {
     "data": {
      "text/html": [
       "<div>\n",
       "<style scoped>\n",
       "    .dataframe tbody tr th:only-of-type {\n",
       "        vertical-align: middle;\n",
       "    }\n",
       "\n",
       "    .dataframe tbody tr th {\n",
       "        vertical-align: top;\n",
       "    }\n",
       "\n",
       "    .dataframe thead th {\n",
       "        text-align: right;\n",
       "    }\n",
       "</style>\n",
       "<table border=\"1\" class=\"dataframe\">\n",
       "  <thead>\n",
       "    <tr style=\"text-align: right;\">\n",
       "      <th></th>\n",
       "      <th>Name</th>\n",
       "      <th>Goal</th>\n",
       "      <th>Backers</th>\n",
       "      <th>State</th>\n",
       "      <th>fund_days</th>\n",
       "      <th>name_len</th>\n",
       "      <th>years_since</th>\n",
       "      <th>s_winter</th>\n",
       "      <th>s_spring</th>\n",
       "      <th>s_summer</th>\n",
       "      <th>s_fall</th>\n",
       "    </tr>\n",
       "  </thead>\n",
       "  <tbody>\n",
       "    <tr>\n",
       "      <th>0</th>\n",
       "      <td>Grace Jones Does Not Give A F$#% T-Shirt (limi...</td>\n",
       "      <td>1000</td>\n",
       "      <td>30</td>\n",
       "      <td>0</td>\n",
       "      <td>39.123056</td>\n",
       "      <td>59</td>\n",
       "      <td>0</td>\n",
       "      <td>0</td>\n",
       "      <td>1</td>\n",
       "      <td>0</td>\n",
       "      <td>0</td>\n",
       "    </tr>\n",
       "    <tr>\n",
       "      <th>1</th>\n",
       "      <td>CRYSTAL ANTLERS UNTITLED MOVIE</td>\n",
       "      <td>80000</td>\n",
       "      <td>3</td>\n",
       "      <td>0</td>\n",
       "      <td>87.994525</td>\n",
       "      <td>30</td>\n",
       "      <td>0</td>\n",
       "      <td>0</td>\n",
       "      <td>1</td>\n",
       "      <td>0</td>\n",
       "      <td>0</td>\n",
       "    </tr>\n",
       "    <tr>\n",
       "      <th>2</th>\n",
       "      <td>drawing for dollars</td>\n",
       "      <td>20</td>\n",
       "      <td>3</td>\n",
       "      <td>1</td>\n",
       "      <td>8.088854</td>\n",
       "      <td>19</td>\n",
       "      <td>0</td>\n",
       "      <td>0</td>\n",
       "      <td>1</td>\n",
       "      <td>0</td>\n",
       "      <td>0</td>\n",
       "    </tr>\n",
       "    <tr>\n",
       "      <th>3</th>\n",
       "      <td>Offline Wikipedia iPhone app</td>\n",
       "      <td>99</td>\n",
       "      <td>25</td>\n",
       "      <td>1</td>\n",
       "      <td>79.266424</td>\n",
       "      <td>28</td>\n",
       "      <td>0</td>\n",
       "      <td>0</td>\n",
       "      <td>1</td>\n",
       "      <td>0</td>\n",
       "      <td>0</td>\n",
       "    </tr>\n",
       "    <tr>\n",
       "      <th>4</th>\n",
       "      <td>Pantshirts</td>\n",
       "      <td>1900</td>\n",
       "      <td>10</td>\n",
       "      <td>0</td>\n",
       "      <td>28.409271</td>\n",
       "      <td>10</td>\n",
       "      <td>0</td>\n",
       "      <td>0</td>\n",
       "      <td>1</td>\n",
       "      <td>0</td>\n",
       "      <td>0</td>\n",
       "    </tr>\n",
       "  </tbody>\n",
       "</table>\n",
       "</div>"
      ],
      "text/plain": [
       "                                                Name   Goal  Backers  State  \\\n",
       "0  Grace Jones Does Not Give A F$#% T-Shirt (limi...   1000       30      0   \n",
       "1                     CRYSTAL ANTLERS UNTITLED MOVIE  80000        3      0   \n",
       "2                                drawing for dollars     20        3      1   \n",
       "3                       Offline Wikipedia iPhone app     99       25      1   \n",
       "4                                         Pantshirts   1900       10      0   \n",
       "\n",
       "   fund_days  name_len  years_since  s_winter  s_spring  s_summer  s_fall  \n",
       "0  39.123056        59            0         0         1         0       0  \n",
       "1  87.994525        30            0         0         1         0       0  \n",
       "2   8.088854        19            0         0         1         0       0  \n",
       "3  79.266424        28            0         0         1         0       0  \n",
       "4  28.409271        10            0         0         1         0       0  "
      ]
     },
     "execution_count": 4,
     "metadata": {},
     "output_type": "execute_result"
    }
   ],
   "source": [
    "data.head()"
   ]
  },
  {
   "cell_type": "markdown",
   "id": "f6d24923-a623-469e-832c-d80d1a68f29a",
   "metadata": {},
   "source": [
    "Looks good! As a reminder our **response variable is `State`**, a categorical variable that represents the outcome of each Kickstarter campaign. `State` has two levels, 0 for \"Failed\" and 1 for \"Successful\". Additionally, we have the **following explanatory variables** that we *may* decide to integrate into our logistic regression model:\n",
    "- `Goal` (fundraising goal; continuous)\n",
    "- `Backers` (number of individuals who donated; continuous)\n",
    "- `fund_days` (duration of campaign in days; continuous)\n",
    "- `name_len` (length of campaign name in characters; discrete)\n",
    "- `years_since` (years since Kickstarter launch in 2009)\n",
    "- *Season* (represented by four columns with binary outcomes; 0 indicates that the campaign was *not* launched in the given season, whereas 1 indicates that the campaign *was* launched in that season)\n",
    "  - `s_winter` (indicates if campaign was launched during winter months; categorical)\n",
    "  - `s_spring` (indicates if campaign was launched during spring months; categorical)\n",
    "  - `s_summer` (indicates if campaign was launched during summer months; categorical)\n",
    "  - `s_fall` (indicates if campaign was launched during fall months; categorical)\n",
    "\n",
    "Let's move on with our analysis below."
   ]
  },
  {
   "cell_type": "markdown",
   "id": "aab543d0-0461-4a41-a255-653c775aad2e",
   "metadata": {},
   "source": [
    "<div id=\"model-checks\"></div>\n",
    "\n",
    "***\n",
    "## Pre-Model Checks"
   ]
  },
  {
   "cell_type": "markdown",
   "id": "0200dbcf-a6e3-4c63-8515-8f6f473d8b30",
   "metadata": {},
   "source": [
    "The next step in our analysis is to **conduct a few pre-model checks** and ensure that our data meets some of the basic conditions necessary to use it in a logistic regression model."
   ]
  },
  {
   "cell_type": "markdown",
   "id": "d8249345-9a75-41fe-85c9-d6b54665b1d2",
   "metadata": {},
   "source": [
    "#### Response variable has binary outcome\n",
    "The first condition our data needs to meet is that the response variale in our model has a binary outcome. As described in the section above, our response variable is `State`, which is categorical and has values of 0 (indicating a failed Kickstarter campaign) and 1 (indicating a successful campaign).. Since `State` has only two possible outcomes, we can confirm that this condition has been met. "
   ]
  },
  {
   "cell_type": "markdown",
   "id": "de8407b6-7517-47a5-9060-1ff7c887ff95",
   "metadata": {},
   "source": [
    "<hr class=\"faint\">\n",
    "\n",
    "#### Observations are independent\n",
    "The next condition our data needs to meet is that the observations in our dataset are independent of each other. The data in our dataset represents over 250+ unique Kickstarter campaigns from across the United States that were launched at different points between 2009-2018. There are no duplicate records or repeated measurements in our dataset. Additionally, we do not have any type of nested or hierarchical structure in our data that would necessitate a more complex type of model. Thus, we can probably go ahead and assume that the observations in our dataset are independent of each other."
   ]
  },
  {
   "cell_type": "markdown",
   "id": "c9369101-8c13-4f3f-8598-d2e25d228de8",
   "metadata": {},
   "source": [
    "<hr class=\"faint\">"
   ]
  },
  {
   "cell_type": "markdown",
   "id": "17f10622-b945-48cb-87d6-a08216be815e",
   "metadata": {},
   "source": [
    "#### No colinearity among explanatory variables\n",
    "Next, we need to verify that there is no colinearity between our numeric explanatory variables. If colinearity is present, we will need to remove correlated variables until colinearity is no longer an issue. To check for colinearity between our explanatory variables, we can (1) pull these variables into a dataframe and (2) create a correlation matrix that displays correlation coefficients between all possible combinations of these variables:"
   ]
  },
  {
   "cell_type": "code",
   "execution_count": 5,
   "id": "954bc834-c9c9-408b-9aea-ba94dd3fcf3d",
   "metadata": {},
   "outputs": [
    {
     "data": {
      "text/html": [
       "<div>\n",
       "<style scoped>\n",
       "    .dataframe tbody tr th:only-of-type {\n",
       "        vertical-align: middle;\n",
       "    }\n",
       "\n",
       "    .dataframe tbody tr th {\n",
       "        vertical-align: top;\n",
       "    }\n",
       "\n",
       "    .dataframe thead th {\n",
       "        text-align: right;\n",
       "    }\n",
       "</style>\n",
       "<table border=\"1\" class=\"dataframe\">\n",
       "  <thead>\n",
       "    <tr style=\"text-align: right;\">\n",
       "      <th></th>\n",
       "      <th>Goal</th>\n",
       "      <th>Backers</th>\n",
       "      <th>fund_days</th>\n",
       "      <th>name_len</th>\n",
       "      <th>years_since</th>\n",
       "    </tr>\n",
       "  </thead>\n",
       "  <tbody>\n",
       "    <tr>\n",
       "      <th>Goal</th>\n",
       "      <td>1.000000</td>\n",
       "      <td>0.006245</td>\n",
       "      <td>0.020847</td>\n",
       "      <td>-0.006465</td>\n",
       "      <td>0.015745</td>\n",
       "    </tr>\n",
       "    <tr>\n",
       "      <th>Backers</th>\n",
       "      <td>0.006245</td>\n",
       "      <td>1.000000</td>\n",
       "      <td>-0.001251</td>\n",
       "      <td>0.020870</td>\n",
       "      <td>0.025893</td>\n",
       "    </tr>\n",
       "    <tr>\n",
       "      <th>fund_days</th>\n",
       "      <td>0.020847</td>\n",
       "      <td>-0.001251</td>\n",
       "      <td>1.000000</td>\n",
       "      <td>0.017794</td>\n",
       "      <td>-0.197098</td>\n",
       "    </tr>\n",
       "    <tr>\n",
       "      <th>name_len</th>\n",
       "      <td>-0.006465</td>\n",
       "      <td>0.020870</td>\n",
       "      <td>0.017794</td>\n",
       "      <td>1.000000</td>\n",
       "      <td>-0.059036</td>\n",
       "    </tr>\n",
       "    <tr>\n",
       "      <th>years_since</th>\n",
       "      <td>0.015745</td>\n",
       "      <td>0.025893</td>\n",
       "      <td>-0.197098</td>\n",
       "      <td>-0.059036</td>\n",
       "      <td>1.000000</td>\n",
       "    </tr>\n",
       "  </tbody>\n",
       "</table>\n",
       "</div>"
      ],
      "text/plain": [
       "                 Goal   Backers  fund_days  name_len  years_since\n",
       "Goal         1.000000  0.006245   0.020847 -0.006465     0.015745\n",
       "Backers      0.006245  1.000000  -0.001251  0.020870     0.025893\n",
       "fund_days    0.020847 -0.001251   1.000000  0.017794    -0.197098\n",
       "name_len    -0.006465  0.020870   0.017794  1.000000    -0.059036\n",
       "years_since  0.015745  0.025893  -0.197098 -0.059036     1.000000"
      ]
     },
     "execution_count": 5,
     "metadata": {},
     "output_type": "execute_result"
    }
   ],
   "source": [
    "#Investigate colinearity between potential explanatory variables\n",
    "\n",
    "#Isolate numeric variables\n",
    "cols = [\"Goal\", \"Backers\", \"fund_days\", \"name_len\", \"years_since\"]\n",
    "expl = data[cols]\n",
    "\n",
    "#Create correlation matrix\n",
    "expl.corr()"
   ]
  },
  {
   "cell_type": "markdown",
   "id": "27f05904-36e5-4096-b325-969cbd5fc8ab",
   "metadata": {},
   "source": [
    "<p style=\"text-align: center; font-size: 12px; max-width: 800px; margin: auto\"><b>Table 1</b>. Correlation matrix of numeric explanatory variables. Each value represents a correlation coefficient between a pair of variables.</p>\n",
    "<br><br>"
   ]
  },
  {
   "cell_type": "markdown",
   "id": "2366c7c7-1203-4077-8d06-f2abfae0a426",
   "metadata": {},
   "source": [
    "We can also make this correlation amtrix easier to read by plotting it:"
   ]
  },
  {
   "cell_type": "code",
   "execution_count": 6,
   "id": "70f7c85a-376f-448d-895c-a097ad3cd3b4",
   "metadata": {},
   "outputs": [
    {
     "data": {
      "text/html": [
       "<style type=\"text/css\">\n",
       "#T_2de81_row0_col0, #T_2de81_row1_col1, #T_2de81_row2_col2, #T_2de81_row3_col3, #T_2de81_row4_col4 {\n",
       "  background-color: #b40426;\n",
       "  color: #f1f1f1;\n",
       "}\n",
       "#T_2de81_row0_col1, #T_2de81_row1_col0 {\n",
       "  background-color: #7093f3;\n",
       "  color: #f1f1f1;\n",
       "}\n",
       "#T_2de81_row0_col2, #T_2de81_row1_col3, #T_2de81_row2_col0, #T_2de81_row3_col1 {\n",
       "  background-color: #7597f6;\n",
       "  color: #f1f1f1;\n",
       "}\n",
       "#T_2de81_row0_col3, #T_2de81_row3_col0 {\n",
       "  background-color: #6c8ff1;\n",
       "  color: #f1f1f1;\n",
       "}\n",
       "#T_2de81_row0_col4, #T_2de81_row2_col3, #T_2de81_row3_col2, #T_2de81_row4_col0 {\n",
       "  background-color: #7396f5;\n",
       "  color: #f1f1f1;\n",
       "}\n",
       "#T_2de81_row1_col2, #T_2de81_row2_col1 {\n",
       "  background-color: #6e90f2;\n",
       "  color: #f1f1f1;\n",
       "}\n",
       "#T_2de81_row1_col4, #T_2de81_row4_col1 {\n",
       "  background-color: #7699f6;\n",
       "  color: #f1f1f1;\n",
       "}\n",
       "#T_2de81_row2_col4, #T_2de81_row4_col2 {\n",
       "  background-color: #3b4cc0;\n",
       "  color: #f1f1f1;\n",
       "}\n",
       "#T_2de81_row3_col4, #T_2de81_row4_col3 {\n",
       "  background-color: #5e7de7;\n",
       "  color: #f1f1f1;\n",
       "}\n",
       "</style>\n",
       "<table id=\"T_2de81\">\n",
       "  <thead>\n",
       "    <tr>\n",
       "      <th class=\"blank level0\" >&nbsp;</th>\n",
       "      <th id=\"T_2de81_level0_col0\" class=\"col_heading level0 col0\" >Goal</th>\n",
       "      <th id=\"T_2de81_level0_col1\" class=\"col_heading level0 col1\" >Backers</th>\n",
       "      <th id=\"T_2de81_level0_col2\" class=\"col_heading level0 col2\" >fund_days</th>\n",
       "      <th id=\"T_2de81_level0_col3\" class=\"col_heading level0 col3\" >name_len</th>\n",
       "      <th id=\"T_2de81_level0_col4\" class=\"col_heading level0 col4\" >years_since</th>\n",
       "    </tr>\n",
       "  </thead>\n",
       "  <tbody>\n",
       "    <tr>\n",
       "      <th id=\"T_2de81_level0_row0\" class=\"row_heading level0 row0\" >Goal</th>\n",
       "      <td id=\"T_2de81_row0_col0\" class=\"data row0 col0\" >1.00</td>\n",
       "      <td id=\"T_2de81_row0_col1\" class=\"data row0 col1\" >0.01</td>\n",
       "      <td id=\"T_2de81_row0_col2\" class=\"data row0 col2\" >0.02</td>\n",
       "      <td id=\"T_2de81_row0_col3\" class=\"data row0 col3\" >-0.01</td>\n",
       "      <td id=\"T_2de81_row0_col4\" class=\"data row0 col4\" >0.02</td>\n",
       "    </tr>\n",
       "    <tr>\n",
       "      <th id=\"T_2de81_level0_row1\" class=\"row_heading level0 row1\" >Backers</th>\n",
       "      <td id=\"T_2de81_row1_col0\" class=\"data row1 col0\" >0.01</td>\n",
       "      <td id=\"T_2de81_row1_col1\" class=\"data row1 col1\" >1.00</td>\n",
       "      <td id=\"T_2de81_row1_col2\" class=\"data row1 col2\" >-0.00</td>\n",
       "      <td id=\"T_2de81_row1_col3\" class=\"data row1 col3\" >0.02</td>\n",
       "      <td id=\"T_2de81_row1_col4\" class=\"data row1 col4\" >0.03</td>\n",
       "    </tr>\n",
       "    <tr>\n",
       "      <th id=\"T_2de81_level0_row2\" class=\"row_heading level0 row2\" >fund_days</th>\n",
       "      <td id=\"T_2de81_row2_col0\" class=\"data row2 col0\" >0.02</td>\n",
       "      <td id=\"T_2de81_row2_col1\" class=\"data row2 col1\" >-0.00</td>\n",
       "      <td id=\"T_2de81_row2_col2\" class=\"data row2 col2\" >1.00</td>\n",
       "      <td id=\"T_2de81_row2_col3\" class=\"data row2 col3\" >0.02</td>\n",
       "      <td id=\"T_2de81_row2_col4\" class=\"data row2 col4\" >-0.20</td>\n",
       "    </tr>\n",
       "    <tr>\n",
       "      <th id=\"T_2de81_level0_row3\" class=\"row_heading level0 row3\" >name_len</th>\n",
       "      <td id=\"T_2de81_row3_col0\" class=\"data row3 col0\" >-0.01</td>\n",
       "      <td id=\"T_2de81_row3_col1\" class=\"data row3 col1\" >0.02</td>\n",
       "      <td id=\"T_2de81_row3_col2\" class=\"data row3 col2\" >0.02</td>\n",
       "      <td id=\"T_2de81_row3_col3\" class=\"data row3 col3\" >1.00</td>\n",
       "      <td id=\"T_2de81_row3_col4\" class=\"data row3 col4\" >-0.06</td>\n",
       "    </tr>\n",
       "    <tr>\n",
       "      <th id=\"T_2de81_level0_row4\" class=\"row_heading level0 row4\" >years_since</th>\n",
       "      <td id=\"T_2de81_row4_col0\" class=\"data row4 col0\" >0.02</td>\n",
       "      <td id=\"T_2de81_row4_col1\" class=\"data row4 col1\" >0.03</td>\n",
       "      <td id=\"T_2de81_row4_col2\" class=\"data row4 col2\" >-0.20</td>\n",
       "      <td id=\"T_2de81_row4_col3\" class=\"data row4 col3\" >-0.06</td>\n",
       "      <td id=\"T_2de81_row4_col4\" class=\"data row4 col4\" >1.00</td>\n",
       "    </tr>\n",
       "  </tbody>\n",
       "</table>\n"
      ],
      "text/plain": [
       "<pandas.io.formats.style.Styler at 0x7fe23859ffa0>"
      ]
     },
     "execution_count": 6,
     "metadata": {},
     "output_type": "execute_result"
    }
   ],
   "source": [
    "#Plot correlation matrix\n",
    "expl.corr().style.background_gradient(cmap='coolwarm', axis=None).set_precision(2)"
   ]
  },
  {
   "cell_type": "markdown",
   "id": "3ded27b5-905f-4b5b-9f72-8911de694bc0",
   "metadata": {},
   "source": [
    "<p style=\"text-align: center; font-size: 12px; max-width: 800px; margin: auto\"><b>Figure 1</b>. Plot of correlation matrix for explanatory variables listed in <i>Table 1</i>. Values indicate correlation coefficients between variables.</p>\n",
    "<br><br>"
   ]
  },
  {
   "cell_type": "markdown",
   "id": "d125f15c-ab97-495e-90e5-47f2cf744e81",
   "metadata": {},
   "source": [
    "In *Table 1* and *Figure 1* above, we can see that there is very weak correlation between our explanatory variables. We do see a correlation coefficient of $r=-0.197$ between the variables `years_since` and `fund_days`. However, this value is well below the $r=0.7$ threshold that is commonly used as a rule of thumb for determining if colinearity is present between two variables. Thus, we will keep both of these variables for the moment and move on to our assessment of multicolinearity below."
   ]
  },
  {
   "cell_type": "markdown",
   "id": "db69a5b5-4669-44bd-8fbc-9dcfd1e29c82",
   "metadata": {},
   "source": [
    "<hr class=\"faint\">"
   ]
  },
  {
   "cell_type": "markdown",
   "id": "60676f40-8ab1-4887-8a4a-43c3474723b7",
   "metadata": {},
   "source": [
    "#### No multicolinearity between explanatory variables\n",
    "Above, we determined that there is no evidence of colinearity between our numeric explanatory variables. However, multicolinearity can still occur even if no pair of variables is highly correlated. Thus, we should test for multicolinearity between our numeric explanatory variables by examining the *variance inflation factor* (VIF) for each variable.\n",
    "\n",
    "We can test for multicolinearity with the `variance_inflation_factor()` function from the `statsmodels` module, which returns a VIF value for each numeric explanatory variable:"
   ]
  },
  {
   "cell_type": "code",
   "execution_count": 7,
   "id": "b01a82c9-294c-4b31-88e6-a621a84341b9",
   "metadata": {},
   "outputs": [
    {
     "name": "stdout",
     "output_type": "stream",
     "text": [
      "                  VIF\n",
      "Goal         1.002171\n",
      "Backers      1.015185\n",
      "fund_days    4.494515\n",
      "name_len     4.357918\n",
      "years_since  4.089828\n"
     ]
    }
   ],
   "source": [
    "vif = [variance_inflation_factor(expl.values, i) for i in range(len(expl.columns))]\n",
    "print(pd.DataFrame(vif, expl.columns, columns=[\"VIF\"]))"
   ]
  },
  {
   "cell_type": "markdown",
   "id": "c787b940-bd76-4998-87c6-88082caeb397",
   "metadata": {},
   "source": [
    "The `statsmodels` [documentation](https://www.statsmodels.org/dev/generated/statsmodels.stats.outliers_influence.variance_inflation_factor.html) suggests that VIF values *greater than five* indicate multicolinearity. As seen above, each of our VIF values is below five, suggesting that multicolinearity is *not* present among our explanatory variables."
   ]
  },
  {
   "cell_type": "markdown",
   "id": "4e4cef84-b343-4576-9d06-ce954d8a2292",
   "metadata": {},
   "source": [
    "<hr class=\"faint\">"
   ]
  },
  {
   "cell_type": "markdown",
   "id": "e7a1dca6-3f5b-4159-84bb-86a4aea7ab48",
   "metadata": {},
   "source": [
    "#### Sufficient sample size"
   ]
  },
  {
   "cell_type": "markdown",
   "id": "1fe80371-a457-4b2d-b889-d6520247212b",
   "metadata": {},
   "source": [
    "According to [Bujang et al. (2018)](https://www.ncbi.nlm.nih.gov/pmc/articles/PMC6422534/#:~:text=For%20observational%20studies%20with%20large%20population%20that%20involves%20logistic%20regression,parameters%20in%20the%20targeted%20population.), studies that utilize logistic regression should have a minimum sample size ($n$) of 500, *or* a sample size where $n = 100 + 50(i)$ (where $i$ is equivalent to the number of explanatory variables in the model). As described in the first section of this analysis, we have nine explanatory variables of interest in our dataset. So, using the rule of thumb above, we would need a sample size of $n = 100 + 50(9) = 550$ observations.\n",
    "\n",
    "Let's take a look at the number of observations in our dataset below:"
   ]
  },
  {
   "cell_type": "code",
   "execution_count": 8,
   "id": "403ef02d-2b0a-46b8-9be2-e8c4897090b5",
   "metadata": {},
   "outputs": [
    {
     "name": "stdout",
     "output_type": "stream",
     "text": [
      "261358\n"
     ]
    }
   ],
   "source": [
    "print(data.shape[0])"
   ]
  },
  {
   "cell_type": "markdown",
   "id": "4ae0c858-4857-400b-a921-09382e5bf646",
   "metadata": {},
   "source": [
    "We have 261,358 unique observations in our sample. Thus, it appears that we have a sample size that is sufficient for use in a logistic regression model."
   ]
  },
  {
   "cell_type": "markdown",
   "id": "b8954913-cc7b-472e-9ebd-9fb42991e7f0",
   "metadata": {},
   "source": [
    "<div id=\"logistic-regression\"></div>\n",
    "\n",
    "***\n",
    "## Run a Logistic Regression"
   ]
  },
  {
   "cell_type": "markdown",
   "id": "5f835c1f-e873-49d7-98da-31ef3979400a",
   "metadata": {},
   "source": [
    "We have verified that our data meets the basic requirements for logistic regression, and are now ready to actually **fit our logistic regression model**!\n",
    "\n",
    "First, we'll break up our response and explanatory variables into separate dataframes:"
   ]
  },
  {
   "cell_type": "code",
   "execution_count": 9,
   "id": "a89ff521-d843-43d1-914a-df97f4082c05",
   "metadata": {},
   "outputs": [],
   "source": [
    "#Split dataset into 'features' and 'target variable'\n",
    "feature_cols = ['Backers', 'fund_days', 'Goal', 'name_len', 's_spring', 's_summer', 's_fall', 'years_since']\n",
    "x = data[feature_cols]\n",
    "y = data['State']"
   ]
  },
  {
   "cell_type": "markdown",
   "id": "ac368cdf-0b26-4444-b62d-9793b1d0b2cc",
   "metadata": {},
   "source": [
    "Note that we omit the `s_winter` column from our explanatory variables. This will allow us to interpret model coefficients for `s_spring`, `s_summer`, and `s_fall` relative to that for `s_winter`."
   ]
  },
  {
   "cell_type": "markdown",
   "id": "ecfcb352-4c4e-4069-a915-ce6c05625a62",
   "metadata": {},
   "source": [
    "Next, we'll create a logistic regression model using the `Logit()` function from the `statsmodels` module and display the results below:"
   ]
  },
  {
   "cell_type": "code",
   "execution_count": 10,
   "id": "ed6fe252-a5c0-4a99-9436-9449cf9148c9",
   "metadata": {},
   "outputs": [
    {
     "name": "stdout",
     "output_type": "stream",
     "text": [
      "Optimization terminated successfully.\n",
      "         Current function value: 0.325689\n",
      "         Iterations 12\n",
      "                          Results: Logit\n",
      "==================================================================\n",
      "Model:              Logit            Pseudo R-squared: 0.521      \n",
      "Dependent Variable: State            AIC:              170260.9627\n",
      "Date:               2023-04-11 14:08 BIC:              170355.2255\n",
      "No. Observations:   261358           Log-Likelihood:   -85121.    \n",
      "Df Model:           8                LL-Null:          -1.7765e+05\n",
      "Df Residuals:       261349           LLR p-value:      0.0000     \n",
      "Converged:          1.0000           Scale:            1.0000     \n",
      "No. Iterations:     12.0000                                       \n",
      "-------------------------------------------------------------------\n",
      "              Coef.   Std.Err.      z      P>|z|    [0.025   0.975]\n",
      "-------------------------------------------------------------------\n",
      "const        -0.1337    0.0304    -4.4001  0.0000  -0.1933  -0.0741\n",
      "Backers       0.0563    0.0003   209.1841  0.0000   0.0558   0.0568\n",
      "fund_days    -0.0134    0.0005   -28.3361  0.0000  -0.0143  -0.0125\n",
      "Goal         -0.0002    0.0000  -167.6861  0.0000  -0.0002  -0.0002\n",
      "name_len      0.0048    0.0004    12.3536  0.0000   0.0040   0.0055\n",
      "s_spring      0.0301    0.0175     1.7184  0.0857  -0.0042   0.0644\n",
      "s_summer     -0.1262    0.0175    -7.2137  0.0000  -0.1605  -0.0919\n",
      "s_fall       -0.0431    0.0179    -2.4067  0.0161  -0.0782  -0.0080\n",
      "years_since  -0.0889    0.0031   -28.7278  0.0000  -0.0949  -0.0828\n",
      "==================================================================\n",
      "\n"
     ]
    }
   ],
   "source": [
    "#Add an intercept (i.e., a column of 1's) to x\n",
    "x = sm.add_constant(x)\n",
    "\n",
    "#Describe the model (statsmodels.discrete.discrete_model.Logit)\n",
    "model = sm.Logit(endog=y, exog=x, missing='none')\n",
    "\n",
    "#Fit the model\n",
    "result = model.fit()\n",
    "\n",
    "#Print model results (beta coefficients, p-values, and confidence intervals)\n",
    "res = result.summary2()\n",
    "print(res)"
   ]
  },
  {
   "cell_type": "markdown",
   "id": "d2ecec3e-af6b-41fc-9293-ea16fb9d1caf",
   "metadata": {},
   "source": [
    "The final step in this process is to back-transform coefficients and confidence intervals:"
   ]
  },
  {
   "cell_type": "code",
   "execution_count": 11,
   "id": "65a6afb1-a3f5-4ddd-85ec-e1a9e95879a3",
   "metadata": {},
   "outputs": [
    {
     "data": {
      "text/html": [
       "<div>\n",
       "<style scoped>\n",
       "    .dataframe tbody tr th:only-of-type {\n",
       "        vertical-align: middle;\n",
       "    }\n",
       "\n",
       "    .dataframe tbody tr th {\n",
       "        vertical-align: top;\n",
       "    }\n",
       "\n",
       "    .dataframe thead th {\n",
       "        text-align: right;\n",
       "    }\n",
       "</style>\n",
       "<table border=\"1\" class=\"dataframe\">\n",
       "  <thead>\n",
       "    <tr style=\"text-align: right;\">\n",
       "      <th></th>\n",
       "      <th>OR</th>\n",
       "      <th>CI_Lower</th>\n",
       "      <th>CI_Higher</th>\n",
       "      <th>P&gt;|z|</th>\n",
       "    </tr>\n",
       "  </thead>\n",
       "  <tbody>\n",
       "    <tr>\n",
       "      <th>Backers</th>\n",
       "      <td>1.057927</td>\n",
       "      <td>1.057369</td>\n",
       "      <td>1.058485</td>\n",
       "      <td>0.000000e+00</td>\n",
       "    </tr>\n",
       "    <tr>\n",
       "      <th>fund_days</th>\n",
       "      <td>0.986670</td>\n",
       "      <td>0.985755</td>\n",
       "      <td>0.987587</td>\n",
       "      <td>1.240029e-176</td>\n",
       "    </tr>\n",
       "    <tr>\n",
       "      <th>Goal</th>\n",
       "      <td>0.999760</td>\n",
       "      <td>0.999757</td>\n",
       "      <td>0.999763</td>\n",
       "      <td>0.000000e+00</td>\n",
       "    </tr>\n",
       "    <tr>\n",
       "      <th>name_len</th>\n",
       "      <td>1.004784</td>\n",
       "      <td>1.004024</td>\n",
       "      <td>1.005546</td>\n",
       "      <td>4.657128e-35</td>\n",
       "    </tr>\n",
       "    <tr>\n",
       "      <th>s_spring</th>\n",
       "      <td>1.030556</td>\n",
       "      <td>0.995777</td>\n",
       "      <td>1.066550</td>\n",
       "      <td>8.572709e-02</td>\n",
       "    </tr>\n",
       "    <tr>\n",
       "      <th>s_summer</th>\n",
       "      <td>0.881415</td>\n",
       "      <td>0.851699</td>\n",
       "      <td>0.912168</td>\n",
       "      <td>5.444942e-13</td>\n",
       "    </tr>\n",
       "    <tr>\n",
       "      <th>s_fall</th>\n",
       "      <td>0.957812</td>\n",
       "      <td>0.924775</td>\n",
       "      <td>0.992031</td>\n",
       "      <td>1.609632e-02</td>\n",
       "    </tr>\n",
       "    <tr>\n",
       "      <th>years_since</th>\n",
       "      <td>0.914976</td>\n",
       "      <td>0.909446</td>\n",
       "      <td>0.920540</td>\n",
       "      <td>1.717033e-181</td>\n",
       "    </tr>\n",
       "  </tbody>\n",
       "</table>\n",
       "</div>"
      ],
      "text/plain": [
       "                   OR  CI_Lower  CI_Higher          P>|z|\n",
       "Backers      1.057927  1.057369   1.058485   0.000000e+00\n",
       "fund_days    0.986670  0.985755   0.987587  1.240029e-176\n",
       "Goal         0.999760  0.999757   0.999763   0.000000e+00\n",
       "name_len     1.004784  1.004024   1.005546   4.657128e-35\n",
       "s_spring     1.030556  0.995777   1.066550   8.572709e-02\n",
       "s_summer     0.881415  0.851699   0.912168   5.444942e-13\n",
       "s_fall       0.957812  0.924775   0.992031   1.609632e-02\n",
       "years_since  0.914976  0.909446   0.920540  1.717033e-181"
      ]
     },
     "execution_count": 11,
     "metadata": {},
     "output_type": "execute_result"
    }
   ],
   "source": [
    "#Define coefficient table from results summary\n",
    "coef_table = res.tables[1]\n",
    "\n",
    "#Correct column names\n",
    "cols = coef_table.columns\n",
    "coef_table = coef_table[1:]\n",
    "coef_table.columns = cols.astype(str).str.strip(\" \")\n",
    "\n",
    "#Add back-transformed columns for beta coefficients and confidence intervals\n",
    "coef_table[\"OR\"] = np.exp(coef_table[\"Coef.\"].astype(float))\n",
    "coef_table[\"CI_Lower\"] = np.exp(coef_table[\"[0.025\"].astype(float))\n",
    "coef_table[\"CI_Higher\"] = np.exp(coef_table[\"0.975]\"].astype(float))\n",
    "\n",
    "#Display table\n",
    "coef_table = pd.concat([coef_table.iloc[:,-3:], coef_table.iloc[:,3]], axis=1)\n",
    "coef_table"
   ]
  },
  {
   "cell_type": "markdown",
   "id": "73383197-ee70-428b-ac68-0a3bd427a1f0",
   "metadata": {},
   "source": [
    "<p style=\"text-align: center; font-size: 12px; max-width: 800px; margin: auto\"><b>Table 2</b>. Odds ratios, back-transformed confidence intervals, and p-values for each explanatory variable in our logistic regression model.</p>\n",
    "<br><br>"
   ]
  },
  {
   "cell_type": "markdown",
   "id": "5cb7a911-d699-4cce-ad2c-1f65b38d42cf",
   "metadata": {},
   "source": [
    "In *Table 2* above, we have odds ratios as well as lower and upper bounds of our confidence intervals and associated p-values in the `Beta_Coefficients`, `CI_Lower`, `CI_Higher`, and `P>|z|` columns, respectively. We are now ready to interpret our model."
   ]
  },
  {
   "cell_type": "markdown",
   "id": "a61fd533-7277-419b-90dc-d5a5d5c3478e",
   "metadata": {},
   "source": [
    "***"
   ]
  },
  {
   "cell_type": "markdown",
   "id": "199c3639-cf1d-4b22-80fd-e7d2bd351515",
   "metadata": {},
   "source": [
    "<div id=\"model-interpretation\"></div>\n",
    "\n",
    "## Model Interpretation\n",
    "Using the information contained in *Table 2*, we can make the following determinations:\n",
    "\n",
    "> **Campaigns with more backers have higher odds of success**. For every 10 backers that support a campaign, the odds of that campaign's success increase by 75.61% (p < 0.00; 95% CI [74.69%, 76.54%]). \n",
    "\n",
    "> **Campaigns with higher fundraising goals have lower odds of success**. For every $1,000 USD increase in a campaign's fundraising goal, the odds of that campaign's success decrease by 21.34% (p = 0.00; 95% CI [-21.57%, -21.10%]).\n",
    "\n",
    ">**Longer campaign duration is associated with lower odds of success**. For every week in a campaign's fundraising period, the odds of that campaign's success decrease by 8.97% (p < 0.00; 95% CI [-9.56%,-8.37%]).\n",
    "\n",
    "> **Campaigns launched in winter have higher odds of success than campaigns launched in summer or fall**. The odds of success are 11.86% lower for campaigns launched during summer instead of winter (p < 0.00; 95% CI [-14.83%, -8.78%]), whereas the odds of success are 4.22% lower for campaigns launched during fall instead of winter (p = 0.02; 95% CI [-7.52%, -0.80%]). The odds of success for campaigns launched in spring were not significantly different from those for campaigns launched in winter.\n",
    "\n",
    "> **Newer campaigns have lower odds of success than those that were launched closer to when Kickstarter was founded**. For every year since 2009 - the year in which Kickstarter was initially launched - the odds of campaign success decrease by 8.50% (p < 0.00; 95% CI [-9.06%, -7.95%]).\n",
    "\n",
    ">**The effect of campaign name length on odds of success is significant but neglible**. For each character in a campaign's name, the odds of success increase by 0.48% (p < 0.00; 95% CI [0.40%, 0.55%]). This effect size is substantially smaller than those of other explanatory variables in our model.\n",
    "\n",
    "So, according to our model, we see that **Kickstarter campaigns with a high number of backers, low fundraising goals, and short fundraising periods have the highest odds of success**. Additionally, campaigns that are launched in winter months may have higher odds of success than those launched in other seasons (i.e., summer and fall). These factors appear to be particularly important in predicting campaign success, whereas other factors - such as campaign name length - appear to be less important.\n",
    "\n",
    "Our results seem like common sense - i.e., that popular campaigns with a lot of supporters and relatively modest fundraising goals are more likely to succeed than unpopular campaigns with high fundraising goals. Regardless, our results could be useful to individuals who are planning to launch Kickstarter campaigns and want to maximize their odds of success!"
   ]
  },
  {
   "cell_type": "markdown",
   "id": "1051b564-327c-41c4-8a62-5bb4fa14793f",
   "metadata": {},
   "source": [
    "***\n",
    "\n",
    "<br>\n",
    "To explore how this data was cleaned prior to analysis, visit the link below:\n",
    "\n",
    "<a href=\"https://john-salisbury.github.io/kickstarter-analysis/data-cleaning\" target=\"_self\" style=\"font-size: 20px; font-weight: bold; text-decoration:underline\">View Data Exploration/Cleaning</a>\n",
    "<br><br>\n",
    "***"
   ]
  }
 ],
 "metadata": {
  "kernelspec": {
   "display_name": "Python 3 (ipykernel)",
   "language": "python",
   "name": "python3"
  },
  "language_info": {
   "codemirror_mode": {
    "name": "ipython",
    "version": 3
   },
   "file_extension": ".py",
   "mimetype": "text/x-python",
   "name": "python",
   "nbconvert_exporter": "python",
   "pygments_lexer": "ipython3",
   "version": "3.9.12"
  }
 },
 "nbformat": 4,
 "nbformat_minor": 5
}
